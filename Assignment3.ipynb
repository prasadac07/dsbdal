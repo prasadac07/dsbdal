{
 "cells": [
  {
   "cell_type": "markdown",
   "id": "1c4c3ed9-45a6-4a7b-ae91-6eaeab9fdd25",
   "metadata": {},
   "source": [
    "Descriptive Statistics - Measures of Central Tendency and variability\n",
    "Perform the following operations on any open-source dataset (e.g.,\n",
    "data.csv)\n",
    "1. Provide summary statistics (mean, median, minimum,\n",
    "maximum, standard deviation) for a dataset (age, income etc.)\n",
    "with numeric variables grouped by one of the qualitative\n",
    "(categorical) variable. For example, if your categorical variable\n",
    "is age groups and quantitative variable is income, then provide\n",
    "summary statistics of income grouped by the age groups. Create\n",
    "a list that contains a numeric value for each response to the\n",
    "categorical variable.\n",
    "2. Write a Python program to display some basic statistical details\n",
    "like percentile, mean, standard deviation etc. of the species of\n",
    "‘Iris-setosa’, ‘Iris-versicolor’ and ‘Iris- versicolor’ of iris.csv\n",
    "dataset.\n",
    "Provide the codes with outputs and explain everything that you do in\n",
    "this step."
   ]
  },
  {
   "cell_type": "markdown",
   "id": "a8b81edc-7746-40ad-8f97-b1fc50e995c9",
   "metadata": {},
   "source": [
    "## 📘 Statistical Concepts and Functions\n",
    "\n",
    "### **Mean**\n",
    "\n",
    "The **mean** is the average of a dataset. It is calculated by summing all the values and dividing by the total number of values.  \n",
    "The formula for mean is:\n",
    "\\[\n",
    "\\text{Mean} = \\frac{\\sum x_i}{n}\n",
    "\\]\n",
    "\n",
    "### **Mode**\n",
    "\n",
    "The **mode** is the value that appears most frequently in a dataset. A dataset can have one mode (unimodal), two modes (bimodal), multiple modes (multimodal), or no mode at all. The mode represents the most common value in the dataset.\n",
    "\n",
    "### **Median**\n",
    "\n",
    "The **median** is the middle value of a dataset when the values are sorted in ascending order.  \n",
    "- If the dataset contains an odd number of values, the median is the middle value.\n",
    "- If the dataset contains an even number of values, the median is the average of the two middle values.\n",
    "\n",
    "### **Central Tendency**\n",
    "\n",
    "**Central tendency** refers to statistical measures that indicate the central point or typical value in a dataset.  \n",
    "The three main measures of central tendency are:\n",
    "- **Mean**: The arithmetic average of all values.\n",
    "- **Median**: The middle value when data is ordered.\n",
    "- **Mode**: The value that occurs most frequently.\n",
    "\n",
    "### **Variability**\n",
    "\n",
    "**Variability** (or dispersion) refers to the extent to which the values in a dataset differ from each other and from the mean. It provides insights into the spread of data.  \n",
    "The main measures of variability include:\n",
    "- **Range**: The difference between the maximum and minimum values.\n",
    "- **Variance**: The average of squared differences from the mean.\n",
    "- **Standard Deviation**: The square root of the variance, representing spread in the same units as the data.\n",
    "\n",
    "### **`groupby()` Function**\n",
    "\n",
    "The `groupby()` function in Pandas is used to group data based on one or more columns and then perform aggregate operations such as sum, mean, or count. This helps in summarizing and analyzing data in smaller subsets.\n",
    "\n",
    "**Example**:\n",
    "```python\n",
    "df.groupby('Department')['Salary'].mean()\n",
    "```\n",
    "This code groups the dataset by the 'Department' column and calculates the average salary for each department.\n",
    "\n",
    "### **`transpose()` Function**\n",
    "\n",
    "The `transpose()` function is used to switch rows and columns in a DataFrame or matrix. It allows you to convert the layout of the data for easier analysis or visualization.\n",
    "\n",
    "**Example**:\n",
    "```python\n",
    "df.T\n",
    "```\n",
    "This will transpose the DataFrame, turning rows into columns and columns into rows.\n",
    "\n",
    "### **`value_counts()` Function**\n",
    "\n",
    "The `value_counts()` function counts the frequency of unique values in a dataset. It is especially useful for categorical data to determine how many times each category appears.\n",
    "\n",
    "**Example**:\n",
    "```python\n",
    "df['Gender'].value_counts()\n",
    "```\n",
    "This will count the occurrences of each unique value in the 'Gender' column, such as Male: 50, Female: 45.\n",
    "\n",
    "### **Measures of Central Tendency**\n",
    "\n",
    "Measures of central tendency help describe the center of a distribution and include:\n",
    "- **Mean**: The average value of the dataset.\n",
    "- **Median**: The middle value in a sorted dataset.\n",
    "- **Mode**: The most frequent value in the dataset.\n",
    "\n",
    "### **Measures of Variability**\n",
    "\n",
    "Measures of variability describe the spread of data and give insights into the consistency or diversity of the values in a dataset. The most common measures are:\n",
    "- **Range**: The difference between the highest and lowest values in the dataset.\n",
    "- **Variance**: The average of the squared differences from the mean.\n",
    "- **Standard Deviation**: The square root of the variance, giving the spread in the same units as the data.\n",
    "- **Interquartile Range (IQR)**: The difference between the third and first quartiles, representing the spread of the middle 50% of the data.\n"
   ]
  },
  {
   "cell_type": "markdown",
   "id": "ade9bcb4-89e0-41ac-9c7e-17cd781385f1",
   "metadata": {},
   "source": [
    "EmployeeSalary Dataset"
   ]
  },
  {
   "cell_type": "code",
   "execution_count": 2,
   "id": "e17098d9-b66f-4d12-8d41-255e037665e3",
   "metadata": {},
   "outputs": [],
   "source": [
    "import numpy as np\n",
    "import pandas as pd\n",
    "\n",
    "# Load dataset\n",
    "data = pd.read_csv(\"Employee_Salary.csv\")"
   ]
  },
  {
   "cell_type": "code",
   "execution_count": 3,
   "id": "aa2c6026-5762-4d5c-a62e-a183f41f955e",
   "metadata": {},
   "outputs": [
    {
     "name": "stdout",
     "output_type": "stream",
     "text": [
      "(35, 5)\n",
      "   ID  Experience  Age  Gender  Salary\n",
      "0   1         5.0   28  Female  250000\n",
      "1   2         1.0   21    Male   50000\n",
      "2   3         3.0   23  Female  170000\n",
      "3   4         2.0   22    Male   25000\n",
      "4   5         1.0   17    Male   10000\n",
      "ID              int64\n",
      "Experience    float64\n",
      "Age             int64\n",
      "Gender         object\n",
      "Salary          int64\n",
      "dtype: object\n",
      "ID            0\n",
      "Experience    1\n",
      "Age           0\n",
      "Gender        1\n",
      "Salary        0\n",
      "dtype: int64\n"
     ]
    }
   ],
   "source": [
    "# Basic checks\n",
    "print(data.shape)\n",
    "print(data.head())\n",
    "print(data.dtypes)\n",
    "print(data.isnull().sum())"
   ]
  },
  {
   "cell_type": "code",
   "execution_count": 4,
   "id": "97821a3d-8e0a-44c5-831c-05a0d8ced15f",
   "metadata": {},
   "outputs": [
    {
     "name": "stdout",
     "output_type": "stream",
     "text": [
      "\n",
      "Filled missing Experience with median: 5.5\n"
     ]
    },
    {
     "name": "stderr",
     "output_type": "stream",
     "text": [
      "/tmp/ipykernel_9629/1680476305.py:3: FutureWarning: A value is trying to be set on a copy of a DataFrame or Series through chained assignment using an inplace method.\n",
      "The behavior will change in pandas 3.0. This inplace method will never work because the intermediate object on which we are setting values always behaves as a copy.\n",
      "\n",
      "For example, when doing 'df[col].method(value, inplace=True)', try using 'df.method({col: value}, inplace=True)' or df[col] = df[col].method(value) instead, to perform the operation inplace on the original object.\n",
      "\n",
      "\n",
      "  data['Experience'].fillna(experience_median, inplace=True)\n"
     ]
    }
   ],
   "source": [
    "# Fill missing 'Experience' with median (numerical)\n",
    "experience_median = data['Experience'].median()\n",
    "data['Experience'].fillna(experience_median, inplace=True)\n",
    "print(f\"\\nFilled missing Experience with median: {experience_median}\")"
   ]
  },
  {
   "cell_type": "code",
   "execution_count": 5,
   "id": "b15211ad-27f9-4dc7-a8b8-9ff5cd374687",
   "metadata": {},
   "outputs": [
    {
     "name": "stdout",
     "output_type": "stream",
     "text": [
      "Filled missing Gender with mode: Female\n"
     ]
    },
    {
     "name": "stderr",
     "output_type": "stream",
     "text": [
      "/tmp/ipykernel_9629/2256599599.py:3: FutureWarning: A value is trying to be set on a copy of a DataFrame or Series through chained assignment using an inplace method.\n",
      "The behavior will change in pandas 3.0. This inplace method will never work because the intermediate object on which we are setting values always behaves as a copy.\n",
      "\n",
      "For example, when doing 'df[col].method(value, inplace=True)', try using 'df.method({col: value}, inplace=True)' or df[col] = df[col].method(value) instead, to perform the operation inplace on the original object.\n",
      "\n",
      "\n",
      "  data['Gender'].fillna(gender_mode, inplace=True)\n"
     ]
    }
   ],
   "source": [
    "# Fill missing 'Gender' with mode (categorical)\n",
    "gender_mode = data['Gender'].mode()[0]\n",
    "data['Gender'].fillna(gender_mode, inplace=True)\n",
    "print(f\"Filled missing Gender with mode: {gender_mode}\")"
   ]
  },
  {
   "cell_type": "code",
   "execution_count": 6,
   "id": "2c7974e7-6e85-4f59-9c76-bba09f1df096",
   "metadata": {},
   "outputs": [
    {
     "name": "stdout",
     "output_type": "stream",
     "text": [
      "\n",
      "Mean Salary: 2059147.142857143\n"
     ]
    }
   ],
   "source": [
    "# Mean salary\n",
    "salary_mean = data['Salary'].mean()\n",
    "print(f\"\\nMean Salary: {salary_mean}\")"
   ]
  },
  {
   "cell_type": "code",
   "execution_count": 7,
   "id": "272d33eb-5096-42e3-a18e-341d2ba9ca42",
   "metadata": {},
   "outputs": [
    {
     "name": "stdout",
     "output_type": "stream",
     "text": [
      "\n",
      "Age value counts:\n",
      " Age\n",
      "54    6\n",
      "21    5\n",
      "23    3\n",
      "26    2\n",
      "62    2\n",
      "22    2\n",
      "29    2\n",
      "36    2\n",
      "34    2\n",
      "28    1\n",
      "17    1\n",
      "39    1\n",
      "40    1\n",
      "27    1\n",
      "18    1\n",
      "55    1\n",
      "53    1\n",
      "49    1\n",
      "Name: count, dtype: int64\n",
      "\n",
      "Gender value counts:\n",
      " Gender\n",
      "Female    18\n",
      "Male      17\n",
      "Name: count, dtype: int64\n"
     ]
    }
   ],
   "source": [
    "# Value counts for Age and Gender\n",
    "print(\"\\nAge value counts:\\n\", data['Age'].value_counts())\n",
    "print(\"\\nGender value counts:\\n\", data['Gender'].value_counts())"
   ]
  },
  {
   "cell_type": "code",
   "execution_count": 9,
   "id": "02dca53f-bcab-4c66-9cd6-1901b76af532",
   "metadata": {},
   "outputs": [
    {
     "name": "stdout",
     "output_type": "stream",
     "text": [
      "\n",
      "GroupBy Age -> Salary stats:\n",
      "              mean     median      min       max           std\n",
      "Age                                                          \n",
      "17   1.000000e+04    10000.0    10000     10000           NaN\n",
      "18   3.000000e+03     3000.0     3000      3000           NaN\n",
      "21   1.722000e+04     9000.0     6000     50000  1.868534e+04\n",
      "22   2.250000e+04    22500.0    20000     25000  3.535534e+03\n",
      "23   6.213333e+04     8900.0     7500    170000  9.341790e+04\n",
      "26   1.375000e+05   137500.0    25000    250000  1.590990e+05\n",
      "27   8.700000e+04    87000.0    87000     87000           NaN\n",
      "28   2.500000e+05   250000.0   250000    250000           NaN\n",
      "29   4.122500e+06  4122500.0  1400000   6845000  3.850196e+06\n",
      "34   5.050000e+05   505000.0    80000    930000  6.010408e+05\n",
      "36   1.957500e+05   195750.0    61500    330000  1.898582e+05\n",
      "39   6.000050e+06  6000050.0  6000050   6000050           NaN\n",
      "40   2.201000e+05   220100.0   220100    220100           NaN\n",
      "49   7.600000e+06  7600000.0  7600000   7600000           NaN\n",
      "53   9.300000e+06  9300000.0  9300000   9300000           NaN\n",
      "54   3.636667e+06  2950000.0   650000   7900000  3.258691e+06\n",
      "55   1.540000e+06  1540000.0  1540000   1540000           NaN\n",
      "62   7.500500e+06  7500500.0  5001000  10000000  3.534827e+06\n"
     ]
    },
    {
     "name": "stderr",
     "output_type": "stream",
     "text": [
      "/tmp/ipykernel_9629/2497164046.py:2: FutureWarning: The provided callable <function mean at 0x744d260a9260> is currently using SeriesGroupBy.mean. In a future version of pandas, the provided callable will be used directly. To keep current behavior pass the string \"mean\" instead.\n",
      "  age_salary_stats = data.groupby('Age')['Salary'].agg([np.mean, np.median, np.min, np.max, np.std])\n",
      "/tmp/ipykernel_9629/2497164046.py:2: FutureWarning: The provided callable <function median at 0x744d255c3060> is currently using SeriesGroupBy.median. In a future version of pandas, the provided callable will be used directly. To keep current behavior pass the string \"median\" instead.\n",
      "  age_salary_stats = data.groupby('Age')['Salary'].agg([np.mean, np.median, np.min, np.max, np.std])\n",
      "/tmp/ipykernel_9629/2497164046.py:2: FutureWarning: The provided callable <function min at 0x744d260a89a0> is currently using SeriesGroupBy.min. In a future version of pandas, the provided callable will be used directly. To keep current behavior pass the string \"min\" instead.\n",
      "  age_salary_stats = data.groupby('Age')['Salary'].agg([np.mean, np.median, np.min, np.max, np.std])\n",
      "/tmp/ipykernel_9629/2497164046.py:2: FutureWarning: The provided callable <function max at 0x744d260a8860> is currently using SeriesGroupBy.max. In a future version of pandas, the provided callable will be used directly. To keep current behavior pass the string \"max\" instead.\n",
      "  age_salary_stats = data.groupby('Age')['Salary'].agg([np.mean, np.median, np.min, np.max, np.std])\n",
      "/tmp/ipykernel_9629/2497164046.py:2: FutureWarning: The provided callable <function std at 0x744d260a93a0> is currently using SeriesGroupBy.std. In a future version of pandas, the provided callable will be used directly. To keep current behavior pass the string \"std\" instead.\n",
      "  age_salary_stats = data.groupby('Age')['Salary'].agg([np.mean, np.median, np.min, np.max, np.std])\n"
     ]
    }
   ],
   "source": [
    "# Group by Age and calculate descriptive stats on Salary\n",
    "age_salary_stats = data.groupby('Age')['Salary'].agg([np.mean, np.median, np.min, np.max, np.std])\n",
    "print(\"\\nGroupBy Age -> Salary stats:\\n\", age_salary_stats)"
   ]
  },
  {
   "cell_type": "code",
   "execution_count": 11,
   "id": "fbed9d5f-034d-407d-a0e4-0133317a8a2c",
   "metadata": {},
   "outputs": [
    {
     "name": "stdout",
     "output_type": "stream",
     "text": [
      "\n",
      "Saved 'age_salary_summary.csv'.\n"
     ]
    },
    {
     "data": {
      "text/html": [
       "<div>\n",
       "<style scoped>\n",
       "    .dataframe tbody tr th:only-of-type {\n",
       "        vertical-align: middle;\n",
       "    }\n",
       "\n",
       "    .dataframe tbody tr th {\n",
       "        vertical-align: top;\n",
       "    }\n",
       "\n",
       "    .dataframe thead th {\n",
       "        text-align: right;\n",
       "    }\n",
       "</style>\n",
       "<table border=\"1\" class=\"dataframe\">\n",
       "  <thead>\n",
       "    <tr style=\"text-align: right;\">\n",
       "      <th></th>\n",
       "      <th>Age</th>\n",
       "      <th>mean</th>\n",
       "      <th>median</th>\n",
       "      <th>min</th>\n",
       "      <th>max</th>\n",
       "      <th>std</th>\n",
       "    </tr>\n",
       "  </thead>\n",
       "  <tbody>\n",
       "    <tr>\n",
       "      <th>0</th>\n",
       "      <td>17</td>\n",
       "      <td>10000.000000</td>\n",
       "      <td>10000.0</td>\n",
       "      <td>10000</td>\n",
       "      <td>10000</td>\n",
       "      <td>NaN</td>\n",
       "    </tr>\n",
       "    <tr>\n",
       "      <th>1</th>\n",
       "      <td>18</td>\n",
       "      <td>3000.000000</td>\n",
       "      <td>3000.0</td>\n",
       "      <td>3000</td>\n",
       "      <td>3000</td>\n",
       "      <td>NaN</td>\n",
       "    </tr>\n",
       "    <tr>\n",
       "      <th>2</th>\n",
       "      <td>21</td>\n",
       "      <td>17220.000000</td>\n",
       "      <td>9000.0</td>\n",
       "      <td>6000</td>\n",
       "      <td>50000</td>\n",
       "      <td>18685.341849</td>\n",
       "    </tr>\n",
       "    <tr>\n",
       "      <th>3</th>\n",
       "      <td>22</td>\n",
       "      <td>22500.000000</td>\n",
       "      <td>22500.0</td>\n",
       "      <td>20000</td>\n",
       "      <td>25000</td>\n",
       "      <td>3535.533906</td>\n",
       "    </tr>\n",
       "    <tr>\n",
       "      <th>4</th>\n",
       "      <td>23</td>\n",
       "      <td>62133.333333</td>\n",
       "      <td>8900.0</td>\n",
       "      <td>7500</td>\n",
       "      <td>170000</td>\n",
       "      <td>93417.896216</td>\n",
       "    </tr>\n",
       "  </tbody>\n",
       "</table>\n",
       "</div>"
      ],
      "text/plain": [
       "   Age          mean   median    min     max           std\n",
       "0   17  10000.000000  10000.0  10000   10000           NaN\n",
       "1   18   3000.000000   3000.0   3000    3000           NaN\n",
       "2   21  17220.000000   9000.0   6000   50000  18685.341849\n",
       "3   22  22500.000000  22500.0  20000   25000   3535.533906\n",
       "4   23  62133.333333   8900.0   7500  170000  93417.896216"
      ]
     },
     "execution_count": 11,
     "metadata": {},
     "output_type": "execute_result"
    }
   ],
   "source": [
    "# Save summary to CSV\n",
    "age_salary_stats.to_csv(\"age_salary_summary.csv\", index=True)\n",
    "print(\"\\nSaved 'age_salary_summary.csv'.\")\n",
    "data1 = pd.read_csv('age_salary_summary.csv')\n",
    "data1.head()"
   ]
  },
  {
   "cell_type": "code",
   "execution_count": 10,
   "id": "1abea2cf-6d23-40fa-bb67-ab2a2798354d",
   "metadata": {},
   "outputs": [
    {
     "name": "stdout",
     "output_type": "stream",
     "text": [
      "\n",
      "Males with Experience > 5 years:\n",
      "     ID  Experience  Age Gender   Salary\n",
      "5    6        25.0   62   Male  5001000\n",
      "11  12         6.0   29   Male  1400000\n",
      "12  13        14.0   39   Male  6000050\n",
      "13  14         5.5   40   Male   220100\n",
      "19  20        10.0   36   Male   330000\n",
      "20  21        15.0   54   Male  6570000\n",
      "30  31        10.0   34   Male    80000\n",
      "31  32        15.0   54   Male   900000\n",
      "34  35        16.0   49   Male  7600000\n",
      "\n",
      "Gender-wise average salary:\n",
      " Gender\n",
      "Female    2.054917e+06\n",
      "Male      2.063626e+06\n",
      "Name: Salary, dtype: float64\n"
     ]
    }
   ],
   "source": [
    "# Filter: Males with Experience > 5 years\n",
    "filtered_data = data[(data['Gender'] == 'Male') & (data['Experience'] > 5)]\n",
    "print(\"\\nMales with Experience > 5 years:\\n\", filtered_data)\n",
    "\n",
    "# Additional GroupBy: Gender-wise average salary\n",
    "gender_salary = data.groupby('Gender')['Salary'].mean()\n",
    "print(\"\\nGender-wise average salary:\\n\", gender_salary)"
   ]
  },
  {
   "cell_type": "code",
   "execution_count": 13,
   "id": "a3932148-fe58-41b7-8d5e-6b0d56695d59",
   "metadata": {},
   "outputs": [
    {
     "name": "stdout",
     "output_type": "stream",
     "text": [
      "\n",
      "Overall Descriptive Statistics:\n",
      "                ID  Experience        Age  Gender        Salary\n",
      "count   35.000000   35.000000  35.000000      35  3.500000e+01\n",
      "unique        NaN         NaN        NaN       2           NaN\n",
      "top           NaN         NaN        NaN  Female           NaN\n",
      "freq          NaN         NaN        NaN      18           NaN\n",
      "mean    18.000000    9.042857  35.485714     NaN  2.059147e+06\n",
      "std     10.246951    7.571591  14.643552     NaN  3.170124e+06\n",
      "min      1.000000    1.000000  17.000000     NaN  3.000000e+03\n",
      "25%      9.500000    2.500000  22.500000     NaN  2.250000e+04\n",
      "50%     18.000000    5.500000  29.000000     NaN  2.500000e+05\n",
      "75%     26.500000   15.000000  53.500000     NaN  3.270000e+06\n",
      "max     35.000000   27.000000  62.000000     NaN  1.000000e+07\n"
     ]
    }
   ],
   "source": [
    "# Descriptive stats of whole dataset\n",
    "print(\"\\nOverall Descriptive Statistics:\\n\", data.describe(include='all'))"
   ]
  },
  {
   "cell_type": "markdown",
   "id": "c3548ac4-343f-4d9a-a639-f6f449187431",
   "metadata": {},
   "source": [
    "Iris Dataset"
   ]
  },
  {
   "cell_type": "code",
   "execution_count": 15,
   "id": "05c862ed-e5a5-455d-8d12-ebcdede78019",
   "metadata": {},
   "outputs": [
    {
     "name": "stdout",
     "output_type": "stream",
     "text": [
      "Shape: (150, 6)\n",
      "   Id  SepalLengthCm  SepalWidthCm  PetalLengthCm  PetalWidthCm      Species\n",
      "0   1            5.1           3.5            1.4           0.2  Iris-setosa\n",
      "1   2            4.9           3.0            1.4           0.2  Iris-setosa\n",
      "2   3            4.7           3.2            1.3           0.2  Iris-setosa\n",
      "3   4            4.6           3.1            1.5           0.2  Iris-setosa\n",
      "4   5            5.0           3.6            1.4           0.2  Iris-setosa\n",
      "Id                 int64\n",
      "SepalLengthCm    float64\n",
      "SepalWidthCm     float64\n",
      "PetalLengthCm    float64\n",
      "PetalWidthCm     float64\n",
      "Species           object\n",
      "dtype: object\n",
      "Id               0\n",
      "SepalLengthCm    0\n",
      "SepalWidthCm     0\n",
      "PetalLengthCm    0\n",
      "PetalWidthCm     0\n",
      "Species          0\n",
      "dtype: int64\n"
     ]
    }
   ],
   "source": [
    "# Load Iris dataset\n",
    "df = pd.read_csv(\"Iris.csv\")\n",
    "\n",
    "# Basic Info\n",
    "print(f\"Shape: {df.shape}\")\n",
    "print(df.head())\n",
    "print(df.dtypes)\n",
    "print(df.isnull().sum())"
   ]
  },
  {
   "cell_type": "code",
   "execution_count": 16,
   "id": "5cd2b766-7503-4c16-8899-a229f1833b17",
   "metadata": {},
   "outputs": [
    {
     "name": "stdout",
     "output_type": "stream",
     "text": [
      "Species\n",
      "Iris-setosa        50\n",
      "Iris-versicolor    50\n",
      "Iris-virginica     50\n",
      "Name: count, dtype: int64\n"
     ]
    }
   ],
   "source": [
    "# Species-wise count\n",
    "print(df['Species'].value_counts())"
   ]
  },
  {
   "cell_type": "code",
   "execution_count": 22,
   "id": "18186f9a-bbbb-4a52-a01e-224810e1baa5",
   "metadata": {},
   "outputs": [
    {
     "name": "stdout",
     "output_type": "stream",
     "text": [
      "--- Statistics for Iris-setosa ---\n",
      "               count    mean        std  min     25%   50%     75%   max\n",
      "Id              50.0  25.500  14.577380  1.0  13.250  25.5  37.750  50.0\n",
      "SepalLengthCm   50.0   5.006   0.352490  4.3   4.800   5.0   5.200   5.8\n",
      "SepalWidthCm    50.0   3.418   0.381024  2.3   3.125   3.4   3.675   4.4\n",
      "PetalLengthCm   50.0   1.464   0.173511  1.0   1.400   1.5   1.575   1.9\n",
      "PetalWidthCm    50.0   0.244   0.107210  0.1   0.200   0.2   0.300   0.6\n",
      "\n",
      "--- Statistics for Iris-versicolor ---\n",
      "               count    mean        std   min     25%    50%    75%    max\n",
      "Id              50.0  75.500  14.577380  51.0  63.250  75.50  87.75  100.0\n",
      "SepalLengthCm   50.0   5.936   0.516171   4.9   5.600   5.90   6.30    7.0\n",
      "SepalWidthCm    50.0   2.770   0.313798   2.0   2.525   2.80   3.00    3.4\n",
      "PetalLengthCm   50.0   4.260   0.469911   3.0   4.000   4.35   4.60    5.1\n",
      "PetalWidthCm    50.0   1.326   0.197753   1.0   1.200   1.30   1.50    1.8\n",
      "\n",
      "--- Statistics for Iris-virginica ---\n",
      "               count     mean        std    min      25%     50%      75%  \\\n",
      "Id              50.0  125.500  14.577380  101.0  113.250  125.50  137.750   \n",
      "SepalLengthCm   50.0    6.588   0.635880    4.9    6.225    6.50    6.900   \n",
      "SepalWidthCm    50.0    2.974   0.322497    2.2    2.800    3.00    3.175   \n",
      "PetalLengthCm   50.0    5.552   0.551895    4.5    5.100    5.55    5.875   \n",
      "PetalWidthCm    50.0    2.026   0.274650    1.4    1.800    2.00    2.300   \n",
      "\n",
      "                 max  \n",
      "Id             150.0  \n",
      "SepalLengthCm    7.9  \n",
      "SepalWidthCm     3.8  \n",
      "PetalLengthCm    6.9  \n",
      "PetalWidthCm     2.5  \n",
      "\n"
     ]
    }
   ],
   "source": [
    "# Function to get descriptive stats for each species\n",
    "def get_species_stats(df):\n",
    "    species_groups = df.groupby('Species')\n",
    "    for species, group in species_groups:\n",
    "        print(f\"--- Statistics for {species} ---\")\n",
    "        print(group.describe().transpose(), end=\"\\n\\n\")\n",
    "\n",
    "get_species_stats(df)"
   ]
  },
  {
   "cell_type": "markdown",
   "id": "a1c130f9-763a-4882-ac5f-0a8f21cc8756",
   "metadata": {},
   "source": [
    "NBA Dataset"
   ]
  },
  {
   "cell_type": "code",
   "execution_count": 24,
   "id": "08d3227c-90e9-4e95-8c8c-965edb17c082",
   "metadata": {},
   "outputs": [],
   "source": [
    "# Load NBA data\n",
    "nba_df = pd.read_csv(\"nba.csv\")"
   ]
  },
  {
   "cell_type": "code",
   "execution_count": 25,
   "id": "aa894341-ad3b-42d0-b1c0-78f8080948fc",
   "metadata": {},
   "outputs": [
    {
     "name": "stdout",
     "output_type": "stream",
     "text": [
      "Name         1\n",
      "Team         1\n",
      "Number       1\n",
      "Position     1\n",
      "Age          1\n",
      "Height       1\n",
      "Weight       1\n",
      "College     85\n",
      "Salary      12\n",
      "dtype: int64\n"
     ]
    }
   ],
   "source": [
    "print(nba_df.isnull().sum())"
   ]
  },
  {
   "cell_type": "code",
   "execution_count": 26,
   "id": "8025b858-1f03-4296-9002-67bcd2a1b801",
   "metadata": {},
   "outputs": [],
   "source": [
    "# Handle missing values\n",
    "nba_df[\"College\"] = nba_df[\"College\"].fillna(nba_df[\"College\"].mode()[0])\n",
    "nba_df[\"Salary\"] = nba_df[\"Salary\"].fillna(nba_df[\"Salary\"].mean())\n",
    "nba_df.dropna(inplace=True)"
   ]
  },
  {
   "cell_type": "code",
   "execution_count": 27,
   "id": "3a6c9dce-78a1-4711-927f-9a5901f3e848",
   "metadata": {},
   "outputs": [
    {
     "name": "stdout",
     "output_type": "stream",
     "text": [
      "                  count          mean           std        min        25%  \\\n",
      "College                                                                     \n",
      "Alabama             3.0  1.421686e+06  6.336200e+05   845059.0  1082529.5   \n",
      "Arizona            13.0  3.325948e+06  3.325132e+06   206192.0   947276.0   \n",
      "Arizona State       2.0  7.933941e+06  1.106268e+07   111444.0  4022692.5   \n",
      "Arkansas            3.0  2.713180e+06  3.316201e+06   261894.0   826527.0   \n",
      "Baylor              1.0  9.813480e+05           NaN   981348.0   981348.0   \n",
      "...                 ...           ...           ...        ...        ...   \n",
      "Western Michigan    1.0  8.450590e+05           NaN   845059.0   845059.0   \n",
      "Wichita State       1.0  8.450590e+05           NaN   845059.0   845059.0   \n",
      "Wisconsin           5.0  1.974492e+06  1.398229e+06   525093.0  1035000.0   \n",
      "Wyoming             1.0  1.155600e+06           NaN  1155600.0  1155600.0   \n",
      "Xavier              1.0  1.499187e+06           NaN  1499187.0  1499187.0   \n",
      "\n",
      "                        50%         75%         max  \n",
      "College                                              \n",
      "Alabama           1320000.0   1710000.0   2100000.0  \n",
      "Arizona           2841960.0   4000000.0  11710456.0  \n",
      "Arizona State     7933941.0  11845189.5  15756438.0  \n",
      "Arkansas          1391160.0   3938823.0   6486486.0  \n",
      "Baylor             981348.0    981348.0    981348.0  \n",
      "...                     ...         ...         ...  \n",
      "Western Michigan   845059.0    845059.0    845059.0  \n",
      "Wichita State      845059.0    845059.0    845059.0  \n",
      "Wisconsin         1646400.0   2612520.0   4053446.0  \n",
      "Wyoming           1155600.0   1155600.0   1155600.0  \n",
      "Xavier            1499187.0   1499187.0   1499187.0  \n",
      "\n",
      "[118 rows x 8 columns]\n"
     ]
    }
   ],
   "source": [
    "# Group by Height and get salary summary\n",
    "height_groups = nba_df.groupby(\"College\")[\"Salary\"].describe()\n",
    "print(height_groups)"
   ]
  },
  {
   "cell_type": "code",
   "execution_count": null,
   "id": "a73df1f3-a741-4cef-836b-9f75a2162213",
   "metadata": {},
   "outputs": [],
   "source": []
  }
 ],
 "metadata": {
  "kernelspec": {
   "display_name": "Python 3 (ipykernel)",
   "language": "python",
   "name": "python3"
  },
  "language_info": {
   "codemirror_mode": {
    "name": "ipython",
    "version": 3
   },
   "file_extension": ".py",
   "mimetype": "text/x-python",
   "name": "python",
   "nbconvert_exporter": "python",
   "pygments_lexer": "ipython3",
   "version": "3.12.3"
  }
 },
 "nbformat": 4,
 "nbformat_minor": 5
}
