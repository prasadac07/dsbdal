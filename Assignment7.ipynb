{
 "cells": [
  {
   "cell_type": "markdown",
   "id": "356673cd-267b-46e9-904b-165c6a8a7db9",
   "metadata": {},
   "source": [
    "Text Analytics\n",
    "1. Extract Sample document and apply following\n",
    "document preprocessing methods: Tokenization, POS\n",
    "Tagging, stop words removal, Stemming and\n",
    "Lemmatization.\n",
    "2. Create representation of document by calculating Term\n",
    "Frequency and Inverse Document Frequency."
   ]
  },
  {
   "cell_type": "code",
   "execution_count": 1,
   "id": "7dbb5a17-ac7e-4f64-9895-30101defbd6e",
   "metadata": {},
   "outputs": [
    {
     "name": "stderr",
     "output_type": "stream",
     "text": [
      "[nltk_data] Downloading package punkt to\n",
      "[nltk_data]     /home/palakagrawal/nltk_data...\n",
      "[nltk_data]   Package punkt is already up-to-date!\n",
      "[nltk_data] Downloading package punkt_tab to\n",
      "[nltk_data]     /home/palakagrawal/nltk_data...\n",
      "[nltk_data]   Package punkt_tab is already up-to-date!\n",
      "[nltk_data] Downloading package stopwords to\n",
      "[nltk_data]     /home/palakagrawal/nltk_data...\n",
      "[nltk_data]   Package stopwords is already up-to-date!\n",
      "[nltk_data] Downloading package averaged_perceptron_tagger_eng to\n",
      "[nltk_data]     /home/palakagrawal/nltk_data...\n",
      "[nltk_data]   Package averaged_perceptron_tagger_eng is already up-to-\n",
      "[nltk_data]       date!\n",
      "[nltk_data] Downloading package wordnet to\n",
      "[nltk_data]     /home/palakagrawal/nltk_data...\n",
      "[nltk_data]   Package wordnet is already up-to-date!\n"
     ]
    },
    {
     "data": {
      "text/plain": [
       "True"
      ]
     },
     "execution_count": 1,
     "metadata": {},
     "output_type": "execute_result"
    }
   ],
   "source": [
    "import nltk\n",
    "import math\n",
    "import re\n",
    "from nltk.stem import PorterStemmer\n",
    "from nltk.stem import WordNetLemmatizer\n",
    "# Ensure necessary NLTK data files are downloaded\n",
    "nltk.download('punkt')\n",
    "nltk.download('punkt_tab')\n",
    "nltk.download('stopwords')\n",
    "nltk.download('averaged_perceptron_tagger_eng')\n",
    "nltk.download('wordnet')"
   ]
  },
  {
   "cell_type": "code",
   "execution_count": 3,
   "id": "4d318f09-5714-4931-bc33-854d10554ff5",
   "metadata": {},
   "outputs": [],
   "source": [
    "# Read the sample documents\n",
    "with open('doc_01.txt', 'r') as file:\n",
    "    doc1 = file.read()\n",
    "\n",
    "with open('doc_02.txt', 'r') as file:\n",
    "    doc2 = file.read()"
   ]
  },
  {
   "cell_type": "markdown",
   "id": "d29ca1a6-6f70-4510-93c7-ed0adb282113",
   "metadata": {},
   "source": [
    "# Tokenization\n",
    "Tokenization is the process of breaking down a text into individual words or tokens. This is often the first step in natural language processing tasks"
   ]
  },
  {
   "cell_type": "code",
   "execution_count": 4,
   "id": "575852a8-5eec-4c0e-9cd2-b522e35cf3c1",
   "metadata": {},
   "outputs": [
    {
     "name": "stdout",
     "output_type": "stream",
     "text": [
      "Tokenized Document 1: ['Between', '2016', 'and', '2019', ',', 'the', 'state', 'forest', 'department', 'under', 'the', 'BJP', 'government', 'had', 'launched', '‘', 'Green', 'Maharashtra', '’', 'drive', 'with', 'an', 'aim', 'to', 'plant', '50', 'crore', 'trees', 'across', 'the', 'state', 'in', 'the', 'four-year', 'period', '.', 'In', 'October', '2019', ',', 'the', 'government', 'had', 'claimed', 'it', 'had', 'surpassed', 'the', 'target', 'by', 'planting', '33', 'crore', 'trees', 'in', 'July-September', '2019', '.', 'The', 'Indian', 'Express', 'had', 'found', 'that', 'non-forest', 'agencies', '—', 'such', 'as', 'gram', 'panchayats', '—', 'which', 'were', 'tasked', 'with', 'planting', 'trees', 'had', 'not', 'uploaded', 'the', 'mandatory', 'audio-visual', 'proof', 'of', 'the', 'tree', 'plantation', 'drives', 'on', 'the', 'specially', 'created', 'portal', '.', 'In', 'Pune', 'Revenue', 'Division', ',', 'it', 'was', 'claimed', 'the', 'gram', 'panchayats', 'planted', '1.7', 'crore', 'saplings', ';', 'however', ',', 'no', 'evidence', 'was', 'uploaded', 'for', '87', 'per', 'cent', '(', '1.49', 'crore', ')', 'saplings', '.', 'Also', ',', 'out', 'of', 'the', '59', 'government', 'agencies', 'involved', 'in', 'the', 'drive', 'as', 'many', 'as', '38', 'had', 'not', 'submitted', 'survival', 'reports', 'about', 'the', 'saplings', '.', 'This', 'year', ',', 'the', 'targets', 'set', 'by', 'the', 'forest', 'department', 'were', 'comparatively', 'modest', '.', 'For', 'example', ',', 'Pune', 'Circle', '—', 'which', 'comprises', 'three', 'divisions', 'in', 'Pune', 'and', 'Solapur', 'district', '—', 'had', 'planned', 'to', 'plant', '17', 'lakh', 'saplings', 'on', 'forest', 'land', '.', 'However', ',', 'it', 'may', 'not', 'meet', 'the', 'target', 'due', 'to', 'unavailability', 'of', 'funds', '.', 'Last', 'year', 'Pune', 'Circle', 'planted', '70', 'lakh', 'saplings', 'on', 'forest', 'land', '.', 'In', 'Pune', 'Division', '—', 'which', 'comprises', 'six', 'talukas', 'namely', 'Maval', ',', 'Mulshi', ',', 'Daund', ',', 'Indapur', ',', 'Baramati', 'and', 'Havveli', '—', 'preparations', 'were', 'done', 'for', 'plantation', 'of', 'about', '4', 'lakh', 'trees', 'with', 'special', 'emphasis', 'on', 'teakwood', '.', 'The', 'National', 'Forest', 'Policy', 'aims', 'and', 'emphasizes', 'at', 'maintaining', '33', '%', 'of', 'the', 'country', '’', 's', 'geographical', 'area', 'under', 'forest', 'and', 'green', 'cover', '.', 'In', 'view', 'of', 'this', 'and', 'as', 'a', 'part', 'of', 'the', '50', 'crore', 'plantation', 'programme', 'within', 'Maharashtra', ',', 'the', 'Maharashtra', 'Forest', 'Department', 'aims', 'to', 'plant', '4', 'crore', 'saplings', 'all', 'over', 'the', 'State', 'between', '1st', 'to', 'July', '7th', ',', '2017', 'to', 'celebrate', '‘', 'Vanmohotsav', '’', '.', 'The', 'plantation', 'programme', ',', 'which', 'was', 'announced', 'in', '2016', 'with', 'the', 'aim', 'of', 'planting', '2', 'crore', 'trees', 'on', '1st', 'July', '2016', 'was', 'a', 'resounding', 'success', 'with', 'the', 'final', 'total', 'reported', 'figure', 'of', '2.82', 'crore', 'saplings', 'planted', 'on', 'a', 'single', 'day', '.', 'To', 'maintain', 'consistency', 'of', 'this', 'platform', 'without', 'affecting', 'its', 'momentum', ',', 'the', 'Forest', 'Department', 'has', 'set', 'the', 'target', 'of', 'plantation', 'of', '4', 'crore', ',', '13', 'crore', 'and', '33', 'crore', 'saplings', 'under', 'the', 'mission', 'of', '50', 'crore', 'plantation', 'which', 'shall', 'be', 'accomplished', 'in', 'the', 'three', 'consecutive', 'years', 'viz', '.', '2017', ',', '2018', 'and', '2019', '.', 'The', '4', 'crore', 'saplings', 'for', 'the', 'year', '2017', 'will', 'be', 'planted', 'during', 'the', 'Vanmohotsav', ',', 'July', '1st', 'to', 'July', '7th', 'in', 'a', 'state-wide', 'drive', 'with', 'the', 'involvement', 'of', '33', 'government', 'departments', 'along', 'with', 'Students', 'of', 'Schools', 'and', 'Colleges', ',', 'NSS', ',', 'NCC', ',', 'CSR', ',', 'NGOs', ',', 'Railways', ',', 'National', 'Highways', ',', 'Defence', ',', 'NABARD', 'and', 'other', 'stakeholders', 'of', 'Society', '.', 'In', 'a', 'first', 'of', 'its', 'kind', ',', 'a', '24-hour', 'toll', 'free', 'helpline', 'number', '1926', 'called', '‘', 'Hello', 'Forest', '’', 'has', 'been', 'set', 'up', 'to', 'provide', 'information', 'regarding', 'plantation', ',', 'protection', 'and', 'for', 'mass', 'awareness', '.', 'The', 'Forest', 'Department', 'has', 'created', 'a', 'mobile', 'application', 'called', '‘', 'My', 'Plants', '’', 'to', 'record', 'details', 'of', 'the', 'plantation', 'such', 'as', 'numbers', ',', 'species', 'and', 'location', 'into', 'the', 'computer', 'system', 'of', 'the', 'Forest', 'Department', '.', 'All', 'volunteers', 'at', 'individual', ',', 'collective', 'and', 'organizational', 'level', 'should', 'download', 'and', 'use', 'this', 'application', 'to', 'record', 'their', 'tree', 'plantation', 'work', 'through', 'the', 'application', ',', 'which', 'will', 'be', 'operational', 'from', '1st', 'July', 'to', '7th', 'July', '.', 'In', 'consonance', 'of', 'the', 'public', 'participation', ',', 'the', 'Maharashtra', 'Forest', 'Department', 'has', 'initiated', 'the', '‘', 'Maharashtra', 'Harit', 'Sena', '’', '/', '‘', 'Green', 'Army', '’', 'which', 'is', 'a', 'body', 'of', 'dedicated', 'volunteers', 'to', 'participate', 'in', 'the', 'plantation', ',', 'protection', ',', 'and', 'activities', 'in', 'forest', ',', 'wildlife', ',', 'and', 'related', 'sectors', 'around', 'the', 'year', '.', 'Individuals', 'and', 'organisations', 'interested', 'in', 'volunteering', 'can', 'register', 'on', 'the', 'Green', 'Army', 'website', 'www.greenarmy.mahaforest.gov.in', 'An', 'integrated', 'drive', 'has', 'been', 'set', 'in', 'place', 'to', 'ensure', 'seamless', 'and', 'successful', 'participation', 'from', 'all', 'stakeholders', 'of', 'society', ',', 'especially', 'the', 'public', '.']\n",
      "\n",
      "\n",
      "Tokenized Document 2: ['Millions', 'of', 'people', 'in', 'India', 'took', 'part', 'in', 'an', 'annual', 'tree', 'planting', 'drive', 'Sunday', '.', 'More', 'than', '250', 'million', 'saplings', 'were', 'planted', 'in', 'a', 'single', 'day', 'across', 'the', 'country', \"'s\", 'most-populous', 'state', '.', 'The', 'campaign', 'was', 'led', 'by', 'Uttar', 'Pradesh', 'state', 'government', 'officials', ',', 'lawmakers', ',', 'and', 'activists', ',', 'in', 'a', 'bid', 'to', 'reduce', 'carbon', 'emissions', 'and', 'combat', 'climate', 'change', '.', 'Where', 'were', 'the', 'trees', 'planted', '?', 'The', 'saplings', 'were', 'planted', 'by', 'volunteers', 'in', 'forests', ',', 'farms', ',', 'schools', ',', 'and', 'along', 'riverbanks', 'and', 'highways', '.', '``', 'We', 'are', 'committed', 'to', 'increasing', 'the', 'forest', 'cover', 'of', 'Uttar', 'Pradesh', 'to', 'over', '15', '%', 'of', 'the', 'total', 'land', 'area', 'in', 'the', 'next', 'five', 'years', ',', \"''\", 'said', 'state', 'forest', 'official', 'Manoj', 'Singh', '.', 'According', 'to', 'another', 'government', 'official', ',', 'the', 'forest', 'cover', 'of', 'the', 'state', 'has', 'increased', 'over', 'the', 'last', 'few', 'years', '.', '``', 'There', 'has', 'been', 'an', 'increase', 'of', '127', 'sqare', 'kilometers', '[', '79', 'sqare', 'miles', ']', 'in', 'the', 'forest', 'cover', 'in', 'Uttar', 'Pradesh', 'as', 'compared', 'to', '2017', ',', \"''\", 'a', 'state', 'government', 'spokesperson', 'was', 'quoted', 'as', 'saying', 'in', 'The', 'Indian', 'Express', 'newspaper', '.', '``', 'There', 'has', 'also', 'been', 'an', 'increase', 'in', 'trees', 'and', 'plants', '.', 'The', 'tree', 'cover', 'has', 'increased', 'to', '3.05', '%', ',', 'as', 'compared', 'to', 'the', 'national', 'average', 'of', '2.89', '%', ',', \"''\", 'the', 'official', 'said', ',', 'citing', 'the', '2019', 'Forest', 'Survey', 'of', 'India', 'report', '.', 'How', 'many', 'saplings', 'survive', '?', 'Uttar', 'Pradesh', 'State', 'Forest', 'Minister', 'Dara', 'Singh', 'said', 'the', 'long-term', 'survival', 'of', 'the', 'saplings', 'remains', 'a', 'concern', ',', 'adding', 'that', 'usually', 'only', '60', '%', 'of', 'the', 'saplings', 'survive', '.', 'The', 'rest', 'succumb', 'to', 'disease', 'or', 'lack', 'of', 'water', '.', 'However', ',', 'he', 'said', 'that', 'about', '80', '%', 'of', 'the', 'saplings', 'planted', 'in', 'the', 'last', 'four', 'annual', 'drives', 'have', 'survived', '.', '``', 'All', 'the', 'regions', 'where', 'plantation', 'is', 'being', 'carried', 'out', 'have', 'been', 'geo-tagged', 'so', 'that', 'we', 'can', 'ascertain', 'what', 'exactly', 'happened', ',', \"''\", 'Chauhan', 'told', 'The', 'Pioneer', 'newspaper', '.', '``', 'These', 'saplings', 'carry', 'QR', 'codes', 'so', 'that', 'officials', 'can', 'maintain', 'a', 'record', 'and', 'verify', 'whether', 'the', 'saplings', 'survived', 'or', 'not', '.', 'Besides', ',', 'teams', 'have', 'been', 'formed', 'to', 'monitor', 'progress', 'of', 'the', 'plantation', 'drive', ',', \"''\", 'he', 'said', '.', 'What', 'is', 'the', 'extent', 'of', 'India', \"'s\", 'tree', 'planting', 'project', '?', 'India', 'has', 'vowed', 'to', 'have', 'a', 'third', 'of', 'its', 'total', 'land', 'area', ',', 'or', '95', 'million', 'hectares', ',', 'under', 'forest', 'and', 'tree', 'cover', 'by', '2030', '.', 'The', 'government', 'has', 'allocated', '$', '6.2', 'billion', '(', '€5.2', 'billion', ')', 'for', 'the', 'tree-planting', 'across', 'the', 'country', '.', 'However', ',', 'industrial', 'development', 'and', 'a', 'rapidly', 'growing', 'population', 'has', 'put', 'further', 'stress', 'on', 'the', 'land', '.']\n"
     ]
    }
   ],
   "source": [
    "# Step 1: Tokenization\n",
    "def tokenize_text(doc):\n",
    "    return nltk.word_tokenize(doc)\n",
    "\n",
    "# Running the process for both documents\n",
    "tokens_doc1 = nltk.word_tokenize(doc1)\n",
    "tokens_doc2 = nltk.word_tokenize(doc2)\n",
    "\n",
    "print(\"Tokenized Document 1:\", tokens_doc1)\n",
    "print(\"\\n\\nTokenized Document 2:\", tokens_doc2)"
   ]
  },
  {
   "cell_type": "markdown",
   "id": "739da88d-2cd4-4493-a24d-d90e0b0e8b93",
   "metadata": {},
   "source": [
    "# Stop Words\n",
    "Stop words are common words like 'the', 'is', 'and', etc., which often do not carry significant meaning in text analysis. Remove these stop words from the text to focus on the more meaningful content."
   ]
  },
  {
   "cell_type": "code",
   "execution_count": 7,
   "id": "ff348ebe-a81e-482a-a0b2-39567991a940",
   "metadata": {},
   "outputs": [
    {
     "name": "stdout",
     "output_type": "stream",
     "text": [
      "Tokenized Document 1: ['2016', '2019', ',', 'state', 'forest', 'department', 'BJP', 'government', 'launched', '‘', 'Green', 'Maharashtra', '’', 'drive', 'aim', 'plant', '50', 'crore', 'trees', 'across', 'state', 'four-year', 'period', '.', 'October', '2019', ',', 'government', 'claimed', 'surpassed', 'target', 'planting', '33', 'crore', 'trees', 'July-September', '2019', '.', 'Indian', 'Express', 'found', 'non-forest', 'agencies', '—', 'gram', 'panchayats', '—', 'tasked', 'planting', 'trees', 'uploaded', 'mandatory', 'audio-visual', 'proof', 'tree', 'plantation', 'drives', 'specially', 'created', 'portal', '.', 'Pune', 'Revenue', 'Division', ',', 'claimed', 'gram', 'panchayats', 'planted', '1.7', 'crore', 'saplings', ';', 'however', ',', 'evidence', 'uploaded', '87', 'per', 'cent', '(', '1.49', 'crore', ')', 'saplings', '.', 'Also', ',', '59', 'government', 'agencies', 'involved', 'drive', 'many', '38', 'submitted', 'survival', 'reports', 'saplings', '.', 'year', ',', 'targets', 'set', 'forest', 'department', 'comparatively', 'modest', '.', 'example', ',', 'Pune', 'Circle', '—', 'comprises', 'three', 'divisions', 'Pune', 'Solapur', 'district', '—', 'planned', 'plant', '17', 'lakh', 'saplings', 'forest', 'land', '.', 'However', ',', 'may', 'meet', 'target', 'due', 'unavailability', 'funds', '.', 'Last', 'year', 'Pune', 'Circle', 'planted', '70', 'lakh', 'saplings', 'forest', 'land', '.', 'Pune', 'Division', '—', 'comprises', 'six', 'talukas', 'namely', 'Maval', ',', 'Mulshi', ',', 'Daund', ',', 'Indapur', ',', 'Baramati', 'Havveli', '—', 'preparations', 'done', 'plantation', '4', 'lakh', 'trees', 'special', 'emphasis', 'teakwood', '.', 'National', 'Forest', 'Policy', 'aims', 'emphasizes', 'maintaining', '33', '%', 'country', '’', 'geographical', 'area', 'forest', 'green', 'cover', '.', 'view', 'part', '50', 'crore', 'plantation', 'programme', 'within', 'Maharashtra', ',', 'Maharashtra', 'Forest', 'Department', 'aims', 'plant', '4', 'crore', 'saplings', 'State', '1st', 'July', '7th', ',', '2017', 'celebrate', '‘', 'Vanmohotsav', '’', '.', 'plantation', 'programme', ',', 'announced', '2016', 'aim', 'planting', '2', 'crore', 'trees', '1st', 'July', '2016', 'resounding', 'success', 'final', 'total', 'reported', 'figure', '2.82', 'crore', 'saplings', 'planted', 'single', 'day', '.', 'maintain', 'consistency', 'platform', 'without', 'affecting', 'momentum', ',', 'Forest', 'Department', 'set', 'target', 'plantation', '4', 'crore', ',', '13', 'crore', '33', 'crore', 'saplings', 'mission', '50', 'crore', 'plantation', 'shall', 'accomplished', 'three', 'consecutive', 'years', 'viz', '.', '2017', ',', '2018', '2019', '.', '4', 'crore', 'saplings', 'year', '2017', 'planted', 'Vanmohotsav', ',', 'July', '1st', 'July', '7th', 'state-wide', 'drive', 'involvement', '33', 'government', 'departments', 'along', 'Students', 'Schools', 'Colleges', ',', 'NSS', ',', 'NCC', ',', 'CSR', ',', 'NGOs', ',', 'Railways', ',', 'National', 'Highways', ',', 'Defence', ',', 'NABARD', 'stakeholders', 'Society', '.', 'first', 'kind', ',', '24-hour', 'toll', 'free', 'helpline', 'number', '1926', 'called', '‘', 'Hello', 'Forest', '’', 'set', 'provide', 'information', 'regarding', 'plantation', ',', 'protection', 'mass', 'awareness', '.', 'Forest', 'Department', 'created', 'mobile', 'application', 'called', '‘', 'Plants', '’', 'record', 'details', 'plantation', 'numbers', ',', 'species', 'location', 'computer', 'system', 'Forest', 'Department', '.', 'volunteers', 'individual', ',', 'collective', 'organizational', 'level', 'download', 'use', 'application', 'record', 'tree', 'plantation', 'work', 'application', ',', 'operational', '1st', 'July', '7th', 'July', '.', 'consonance', 'public', 'participation', ',', 'Maharashtra', 'Forest', 'Department', 'initiated', '‘', 'Maharashtra', 'Harit', 'Sena', '’', '/', '‘', 'Green', 'Army', '’', 'body', 'dedicated', 'volunteers', 'participate', 'plantation', ',', 'protection', ',', 'activities', 'forest', ',', 'wildlife', ',', 'related', 'sectors', 'around', 'year', '.', 'Individuals', 'organisations', 'interested', 'volunteering', 'register', 'Green', 'Army', 'website', 'www.greenarmy.mahaforest.gov.in', 'integrated', 'drive', 'set', 'place', 'ensure', 'seamless', 'successful', 'participation', 'stakeholders', 'society', ',', 'especially', 'public', '.']\n",
      "\n",
      "\n",
      "Tokenized Document 2: ['Millions', 'people', 'India', 'took', 'part', 'annual', 'tree', 'planting', 'drive', 'Sunday', '.', '250', 'million', 'saplings', 'planted', 'single', 'day', 'across', 'country', \"'s\", 'most-populous', 'state', '.', 'campaign', 'led', 'Uttar', 'Pradesh', 'state', 'government', 'officials', ',', 'lawmakers', ',', 'activists', ',', 'bid', 'reduce', 'carbon', 'emissions', 'combat', 'climate', 'change', '.', 'trees', 'planted', '?', 'saplings', 'planted', 'volunteers', 'forests', ',', 'farms', ',', 'schools', ',', 'along', 'riverbanks', 'highways', '.', '``', 'committed', 'increasing', 'forest', 'cover', 'Uttar', 'Pradesh', '15', '%', 'total', 'land', 'area', 'next', 'five', 'years', ',', \"''\", 'said', 'state', 'forest', 'official', 'Manoj', 'Singh', '.', 'According', 'another', 'government', 'official', ',', 'forest', 'cover', 'state', 'increased', 'last', 'years', '.', '``', 'increase', '127', 'sqare', 'kilometers', '[', '79', 'sqare', 'miles', ']', 'forest', 'cover', 'Uttar', 'Pradesh', 'compared', '2017', ',', \"''\", 'state', 'government', 'spokesperson', 'quoted', 'saying', 'Indian', 'Express', 'newspaper', '.', '``', 'also', 'increase', 'trees', 'plants', '.', 'tree', 'cover', 'increased', '3.05', '%', ',', 'compared', 'national', 'average', '2.89', '%', ',', \"''\", 'official', 'said', ',', 'citing', '2019', 'Forest', 'Survey', 'India', 'report', '.', 'many', 'saplings', 'survive', '?', 'Uttar', 'Pradesh', 'State', 'Forest', 'Minister', 'Dara', 'Singh', 'said', 'long-term', 'survival', 'saplings', 'remains', 'concern', ',', 'adding', 'usually', '60', '%', 'saplings', 'survive', '.', 'rest', 'succumb', 'disease', 'lack', 'water', '.', 'However', ',', 'said', '80', '%', 'saplings', 'planted', 'last', 'four', 'annual', 'drives', 'survived', '.', '``', 'regions', 'plantation', 'carried', 'geo-tagged', 'ascertain', 'exactly', 'happened', ',', \"''\", 'Chauhan', 'told', 'Pioneer', 'newspaper', '.', '``', 'saplings', 'carry', 'QR', 'codes', 'officials', 'maintain', 'record', 'verify', 'whether', 'saplings', 'survived', '.', 'Besides', ',', 'teams', 'formed', 'monitor', 'progress', 'plantation', 'drive', ',', \"''\", 'said', '.', 'extent', 'India', \"'s\", 'tree', 'planting', 'project', '?', 'India', 'vowed', 'third', 'total', 'land', 'area', ',', '95', 'million', 'hectares', ',', 'forest', 'tree', 'cover', '2030', '.', 'government', 'allocated', '$', '6.2', 'billion', '(', '€5.2', 'billion', ')', 'tree-planting', 'across', 'country', '.', 'However', ',', 'industrial', 'development', 'rapidly', 'growing', 'population', 'put', 'stress', 'land', '.']\n"
     ]
    }
   ],
   "source": [
    "# Step 2: Stop Word Removal\n",
    "def remove_stop_words(tokens):\n",
    "    stop_words = set(nltk.corpus.stopwords.words('english'))\n",
    "    after_removing = []\n",
    "    for token in tokens:\n",
    "        if token.lower() not in stop_words:\n",
    "            after_removing.append(token)\n",
    "    return after_removing\n",
    "    # return [token for token in tokens if token.lower() not in stop_words]\n",
    "    \n",
    "# Remove stop words\n",
    "tokens_doc1 = remove_stop_words(tokens_doc1)\n",
    "tokens_doc2 = remove_stop_words(tokens_doc2)\n",
    "\n",
    "print(\"Tokenized Document 1:\", tokens_doc1)\n",
    "print(\"\\n\\nTokenized Document 2:\", tokens_doc2)"
   ]
  },
  {
   "cell_type": "markdown",
   "id": "2c3b5e94-e76a-40bb-aec5-0dd10773d49b",
   "metadata": {},
   "source": [
    "# POS Tagging\n",
    "\n",
    "POS tagging involves labeling each word in a sentence with its corresponding part of speech, such as noun, verb, adjective, etc.\n",
    "\n",
    "### 9 Primary Parts of Speech:\n",
    "- **Noun**  \n",
    "- **Pronoun**  \n",
    "- **Verb**  \n",
    "- **Adjective**  \n",
    "- **Adverb**  \n",
    "- **Preposition**  \n",
    "- **Conjunction**  \n",
    "- **Interjection**  \n",
    "- **Determiner**  \n",
    "\n",
    "\n",
    "### Common POS Tags Table\n",
    "\n",
    "| POS Tag | Meaning                                | Example                        |\n",
    "|---------|----------------------------------------|--------------------------------|\n",
    "| **NN**  | Noun, singular                         | *tree, drive*                  |\n",
    "| **NNS** | Noun, plural                           | *saplings, people*             |\n",
    "| **NNP** | Proper noun, singular                  | *India, Uttar*                 |\n",
    "| **JJ**  | Adjective                              | *green, successful*            |\n",
    "| **VB**  | Verb, base form                        | *ensure, reduce*               |\n",
    "| **VBD** | Verb, past tense                       | *took, said*                   |\n",
    "| **VBG** | Verb, gerund/present participle        | *planting, citing*             |\n",
    "| **VBN** | Verb, past participle                  | *planted, quoted*              |\n",
    "| **VBP** | Verb, non-3rd person singular present  | *combat, survive*              |\n",
    "| **RB**  | Adverb                                 | *especially, also*             |\n",
    "| **IN**  | Preposition/Subordinating conjunction  | *across, along*                |\n",
    "| **CD**  | Cardinal number                        | *250, 15, 2019*                |\n",
    "| **DT**  | Determiner                             | *another*                      |\n",
    "| **PRP** | Personal pronoun                       | *they, we*                     |\n",
    "| **POS** | Possessive ending                      | *'s*                           |\n",
    "| **.**   | Sentence-ending punctuation            | *.*                            |\n",
    "| **,**   | Comma                                  | *,*                            |\n",
    "| **`` / ''** | Quote marks                        | *“ ” or ' '*                   |\n",
    "\n"
   ]
  },
  {
   "cell_type": "code",
   "execution_count": 29,
   "id": "df9ea166-017c-4419-a2f6-aee43833ee6e",
   "metadata": {},
   "outputs": [
    {
     "name": "stdout",
     "output_type": "stream",
     "text": [
      "POS Tagged Document 1: [('2016', 'CD'), ('2019', 'CD'), (',', ','), ('state', 'NN'), ('forest', 'JJS'), ('department', 'NN'), ('BJP', 'NNP'), ('government', 'NN'), ('launched', 'VBD'), ('‘', 'NNP'), ('Green', 'NNP'), ('Maharashtra', 'NNP'), ('’', 'NNP'), ('drive', 'NN'), ('aim', 'NN'), ('plant', 'NN'), ('50', 'CD'), ('crore', 'NN'), ('trees', 'NNS'), ('across', 'IN'), ('state', 'NN'), ('four-year', 'JJ'), ('period', 'NN'), ('.', '.'), ('October', 'NNP'), ('2019', 'CD'), (',', ','), ('government', 'NN'), ('claimed', 'VBD'), ('surpassed', 'JJ'), ('target', 'NN'), ('planting', 'VBG'), ('33', 'CD'), ('crore', 'NN'), ('trees', 'NNS'), ('July-September', 'NNP'), ('2019', 'CD'), ('.', '.'), ('Indian', 'JJ'), ('Express', 'NNP'), ('found', 'VBD'), ('non-forest', 'JJS'), ('agencies', 'NNS'), ('—', 'VBP'), ('gram', 'JJ'), ('panchayats', 'NNS'), ('—', 'VBP'), ('tasked', 'VBN'), ('planting', 'NN'), ('trees', 'NNS'), ('uploaded', 'JJ'), ('mandatory', 'JJ'), ('audio-visual', 'JJ'), ('proof', 'NN'), ('tree', 'JJ'), ('plantation', 'NN'), ('drives', 'NNS'), ('specially', 'RB'), ('created', 'VBD'), ('portal', 'JJ'), ('.', '.'), ('Pune', 'NNP'), ('Revenue', 'NNP'), ('Division', 'NNP'), (',', ','), ('claimed', 'VBD'), ('gram', 'JJ'), ('panchayats', 'NNS'), ('planted', 'VBD'), ('1.7', 'CD'), ('crore', 'NN'), ('saplings', 'NNS'), (';', ':'), ('however', 'RB'), (',', ','), ('evidence', 'NN'), ('uploaded', 'VBD'), ('87', 'CD'), ('per', 'IN'), ('cent', 'NN'), ('(', '('), ('1.49', 'CD'), ('crore', 'NN'), (')', ')'), ('saplings', 'NNS'), ('.', '.'), ('Also', 'RB'), (',', ','), ('59', 'CD'), ('government', 'NN'), ('agencies', 'NNS'), ('involved', 'VBD'), ('drive', 'JJ'), ('many', 'JJ'), ('38', 'CD'), ('submitted', 'VBD'), ('survival', 'NN'), ('reports', 'NNS'), ('saplings', 'NNS'), ('.', '.'), ('year', 'NN'), (',', ','), ('targets', 'NNS'), ('set', 'VBP'), ('forest', 'JJS'), ('department', 'NN'), ('comparatively', 'RB'), ('modest', 'JJ'), ('.', '.'), ('example', 'NN'), (',', ','), ('Pune', 'NNP'), ('Circle', 'NNP'), ('—', 'NNP'), ('comprises', 'VBZ'), ('three', 'CD'), ('divisions', 'NNS'), ('Pune', 'NNP'), ('Solapur', 'NNP'), ('district', 'NN'), ('—', 'NN'), ('planned', 'VBD'), ('plant', 'NN'), ('17', 'CD'), ('lakh', 'JJ'), ('saplings', 'NNS'), ('forest', 'JJS'), ('land', 'NN'), ('.', '.'), ('However', 'RB'), (',', ','), ('may', 'MD'), ('meet', 'VB'), ('target', 'NN'), ('due', 'JJ'), ('unavailability', 'NN'), ('funds', 'NNS'), ('.', '.'), ('Last', 'JJ'), ('year', 'NN'), ('Pune', 'NNP'), ('Circle', 'NNP'), ('planted', 'VBD'), ('70', 'CD'), ('lakh', 'JJ'), ('saplings', 'NNS'), ('forest', 'JJS'), ('land', 'NN'), ('.', '.'), ('Pune', 'NNP'), ('Division', 'NNP'), ('—', 'NNP'), ('comprises', 'VBZ'), ('six', 'CD'), ('talukas', 'NN'), ('namely', 'RB'), ('Maval', 'NNP'), (',', ','), ('Mulshi', 'NNP'), (',', ','), ('Daund', 'NNP'), (',', ','), ('Indapur', 'NNP'), (',', ','), ('Baramati', 'NNP'), ('Havveli', 'NNP'), ('—', 'NNP'), ('preparations', 'NNS'), ('done', 'VBN'), ('plantation', 'NN'), ('4', 'CD'), ('lakh', 'NN'), ('trees', 'NNS'), ('special', 'JJ'), ('emphasis', 'NN'), ('teakwood', 'NN'), ('.', '.'), ('National', 'NNP'), ('Forest', 'NNP'), ('Policy', 'NNP'), ('aims', 'VBZ'), ('emphasizes', 'VBZ'), ('maintaining', 'VBG'), ('33', 'CD'), ('%', 'NN'), ('country', 'NN'), ('’', 'NNP'), ('geographical', 'JJ'), ('area', 'NN'), ('forest', 'JJS'), ('green', 'JJ'), ('cover', 'NN'), ('.', '.'), ('view', 'VB'), ('part', 'NN'), ('50', 'CD'), ('crore', 'NN'), ('plantation', 'NN'), ('programme', 'NN'), ('within', 'IN'), ('Maharashtra', 'NNP'), (',', ','), ('Maharashtra', 'NNP'), ('Forest', 'NNP'), ('Department', 'NNP'), ('aims', 'VBZ'), ('plant', 'NN'), ('4', 'CD'), ('crore', 'NN'), ('saplings', 'NNS'), ('State', 'NNP'), ('1st', 'CD'), ('July', 'NNP'), ('7th', 'CD'), (',', ','), ('2017', 'CD'), ('celebrate', 'NN'), ('‘', 'NNP'), ('Vanmohotsav', 'NNP'), ('’', 'NNP'), ('.', '.'), ('plantation', 'NN'), ('programme', 'NN'), (',', ','), ('announced', 'VBD'), ('2016', 'CD'), ('aim', 'NN'), ('planting', 'VBG'), ('2', 'CD'), ('crore', 'NN'), ('trees', 'NNS'), ('1st', 'CD'), ('July', 'NNP'), ('2016', 'CD'), ('resounding', 'VBG'), ('success', 'NN'), ('final', 'JJ'), ('total', 'NN'), ('reported', 'VBD'), ('figure', 'NN'), ('2.82', 'CD'), ('crore', 'NN'), ('saplings', 'NNS'), ('planted', 'VBD'), ('single', 'JJ'), ('day', 'NN'), ('.', '.'), ('maintain', 'VB'), ('consistency', 'NN'), ('platform', 'NN'), ('without', 'IN'), ('affecting', 'VBG'), ('momentum', 'NN'), (',', ','), ('Forest', 'NNP'), ('Department', 'NNP'), ('set', 'VBD'), ('target', 'NN'), ('plantation', 'NN'), ('4', 'CD'), ('crore', 'NN'), (',', ','), ('13', 'CD'), ('crore', 'NN'), ('33', 'CD'), ('crore', 'NN'), ('saplings', 'NNS'), ('mission', 'NN'), ('50', 'CD'), ('crore', 'NN'), ('plantation', 'NN'), ('shall', 'MD'), ('accomplished', 'VB'), ('three', 'CD'), ('consecutive', 'JJ'), ('years', 'NNS'), ('viz', 'RB'), ('.', '.'), ('2017', 'CD'), (',', ','), ('2018', 'CD'), ('2019', 'CD'), ('.', '.'), ('4', 'CD'), ('crore', 'NN'), ('saplings', 'NNS'), ('year', 'NN'), ('2017', 'CD'), ('planted', 'VBD'), ('Vanmohotsav', 'NNP'), (',', ','), ('July', 'NNP'), ('1st', 'CD'), ('July', 'NNP'), ('7th', 'CD'), ('state-wide', 'JJ'), ('drive', 'NN'), ('involvement', 'NN'), ('33', 'CD'), ('government', 'NN'), ('departments', 'NNS'), ('along', 'IN'), ('Students', 'NNS'), ('Schools', 'NNP'), ('Colleges', 'NNP'), (',', ','), ('NSS', 'NNP'), (',', ','), ('NCC', 'NNP'), (',', ','), ('CSR', 'NNP'), (',', ','), ('NGOs', 'NNP'), (',', ','), ('Railways', 'NNP'), (',', ','), ('National', 'NNP'), ('Highways', 'NNP'), (',', ','), ('Defence', 'NNP'), (',', ','), ('NABARD', 'NNP'), ('stakeholders', 'VBZ'), ('Society', 'NNP'), ('.', '.'), ('first', 'JJ'), ('kind', 'NN'), (',', ','), ('24-hour', 'JJ'), ('toll', 'NN'), ('free', 'JJ'), ('helpline', 'NN'), ('number', 'NN'), ('1926', 'CD'), ('called', 'VBD'), ('‘', 'NNP'), ('Hello', 'NNP'), ('Forest', 'NNP'), ('’', 'NNP'), ('set', 'VBD'), ('provide', 'JJ'), ('information', 'NN'), ('regarding', 'VBG'), ('plantation', 'NN'), (',', ','), ('protection', 'NN'), ('mass', 'NN'), ('awareness', 'NN'), ('.', '.'), ('Forest', 'NNP'), ('Department', 'NNP'), ('created', 'VBD'), ('mobile', 'JJ'), ('application', 'NN'), ('called', 'VBN'), ('‘', 'CD'), ('Plants', 'NNS'), ('’', 'JJ'), ('record', 'NN'), ('details', 'NNS'), ('plantation', 'NN'), ('numbers', 'NNS'), (',', ','), ('species', 'NNS'), ('location', 'VBP'), ('computer', 'NN'), ('system', 'NN'), ('Forest', 'NNP'), ('Department', 'NNP'), ('.', '.'), ('volunteers', 'NNS'), ('individual', 'JJ'), (',', ','), ('collective', 'JJ'), ('organizational', 'JJ'), ('level', 'NN'), ('download', 'NN'), ('use', 'NN'), ('application', 'NN'), ('record', 'NN'), ('tree', 'NN'), ('plantation', 'NN'), ('work', 'NN'), ('application', 'NN'), (',', ','), ('operational', 'JJ'), ('1st', 'CD'), ('July', 'NNP'), ('7th', 'CD'), ('July', 'NNP'), ('.', '.'), ('consonance', 'NN'), ('public', 'JJ'), ('participation', 'NN'), (',', ','), ('Maharashtra', 'NNP'), ('Forest', 'NNP'), ('Department', 'NNP'), ('initiated', 'VBD'), ('‘', 'NNP'), ('Maharashtra', 'NNP'), ('Harit', 'NNP'), ('Sena', 'NNP'), ('’', 'NNP'), ('/', 'NNP'), ('‘', 'NNP'), ('Green', 'NNP'), ('Army', 'NNP'), ('’', 'NNP'), ('body', 'NN'), ('dedicated', 'VBD'), ('volunteers', 'NNS'), ('participate', 'JJ'), ('plantation', 'NN'), (',', ','), ('protection', 'NN'), (',', ','), ('activities', 'NNS'), ('forest', 'VBP'), (',', ','), ('wildlife', 'NN'), (',', ','), ('related', 'JJ'), ('sectors', 'NNS'), ('around', 'IN'), ('year', 'NN'), ('.', '.'), ('Individuals', 'NNS'), ('organisations', 'NNS'), ('interested', 'JJ'), ('volunteering', 'VBG'), ('register', 'NN'), ('Green', 'NNP'), ('Army', 'NNP'), ('website', 'NN'), ('www.greenarmy.mahaforest.gov.in', 'NN'), ('integrated', 'VBD'), ('drive', 'JJ'), ('set', 'NN'), ('place', 'NN'), ('ensure', 'VB'), ('seamless', 'JJ'), ('successful', 'JJ'), ('participation', 'NN'), ('stakeholders', 'NNS'), ('society', 'NN'), (',', ','), ('especially', 'RB'), ('public', 'JJ'), ('.', '.')]\n",
      "POS Tagged Document 2: [('Millions', 'NNS'), ('people', 'NNS'), ('India', 'NNP'), ('took', 'VBD'), ('part', 'NN'), ('annual', 'JJ'), ('tree', 'NN'), ('planting', 'VBG'), ('drive', 'JJ'), ('Sunday', 'NNP'), ('.', '.'), ('250', 'CD'), ('million', 'CD'), ('saplings', 'NNS'), ('planted', 'VBN'), ('single', 'JJ'), ('day', 'NN'), ('across', 'IN'), ('country', 'NN'), (\"'s\", 'POS'), ('most-populous', 'JJ'), ('state', 'NN'), ('.', '.'), ('campaign', 'NN'), ('led', 'VBD'), ('Uttar', 'NNP'), ('Pradesh', 'NNP'), ('state', 'NN'), ('government', 'NN'), ('officials', 'NNS'), (',', ','), ('lawmakers', 'NNS'), (',', ','), ('activists', 'NNS'), (',', ','), ('bid', 'NN'), ('reduce', 'VB'), ('carbon', 'NN'), ('emissions', 'NNS'), ('combat', 'VBP'), ('climate', 'JJ'), ('change', 'NN'), ('.', '.'), ('trees', 'NNS'), ('planted', 'VBN'), ('?', '.'), ('saplings', 'NNS'), ('planted', 'VBD'), ('volunteers', 'NNS'), ('forests', 'NNS'), (',', ','), ('farms', 'NNS'), (',', ','), ('schools', 'NNS'), (',', ','), ('along', 'IN'), ('riverbanks', 'NNS'), ('highways', 'NNS'), ('.', '.'), ('``', '``'), ('committed', 'JJ'), ('increasing', 'VBG'), ('forest', 'JJS'), ('cover', 'NN'), ('Uttar', 'NNP'), ('Pradesh', 'NNP'), ('15', 'CD'), ('%', 'NN'), ('total', 'JJ'), ('land', 'NN'), ('area', 'NN'), ('next', 'IN'), ('five', 'CD'), ('years', 'NNS'), (',', ','), (\"''\", \"''\"), ('said', 'VBD'), ('state', 'NN'), ('forest', 'JJS'), ('official', 'NN'), ('Manoj', 'NNP'), ('Singh', 'NNP'), ('.', '.'), ('According', 'VBG'), ('another', 'DT'), ('government', 'NN'), ('official', 'NN'), (',', ','), ('forest', 'JJS'), ('cover', 'NN'), ('state', 'NN'), ('increased', 'VBD'), ('last', 'JJ'), ('years', 'NNS'), ('.', '.'), ('``', '``'), ('increase', 'VB'), ('127', 'CD'), ('sqare', 'JJ'), ('kilometers', 'NNS'), ('[', 'VBP'), ('79', 'CD'), ('sqare', 'NN'), ('miles', 'NNS'), (']', 'RB'), ('forest', 'VBP'), ('cover', 'NN'), ('Uttar', 'NNP'), ('Pradesh', 'NNP'), ('compared', 'VBN'), ('2017', 'CD'), (',', ','), (\"''\", \"''\"), ('state', 'NN'), ('government', 'NN'), ('spokesperson', 'NN'), ('quoted', 'VBD'), ('saying', 'VBG'), ('Indian', 'NNP'), ('Express', 'NNP'), ('newspaper', 'NN'), ('.', '.'), ('``', '``'), ('also', 'RB'), ('increase', 'VB'), ('trees', 'NNS'), ('plants', 'NNS'), ('.', '.'), ('tree', 'VB'), ('cover', 'NN'), ('increased', 'VBD'), ('3.05', 'CD'), ('%', 'NN'), (',', ','), ('compared', 'VBN'), ('national', 'JJ'), ('average', 'JJ'), ('2.89', 'CD'), ('%', 'NN'), (',', ','), (\"''\", \"''\"), ('official', 'NN'), ('said', 'VBD'), (',', ','), ('citing', 'VBG'), ('2019', 'CD'), ('Forest', 'NNP'), ('Survey', 'NNP'), ('India', 'NNP'), ('report', 'NN'), ('.', '.'), ('many', 'JJ'), ('saplings', 'NNS'), ('survive', 'VBP'), ('?', '.'), ('Uttar', 'NNP'), ('Pradesh', 'NNP'), ('State', 'NNP'), ('Forest', 'NNP'), ('Minister', 'NNP'), ('Dara', 'NNP'), ('Singh', 'NNP'), ('said', 'VBD'), ('long-term', 'JJ'), ('survival', 'JJ'), ('saplings', 'NNS'), ('remains', 'VBZ'), ('concern', 'NN'), (',', ','), ('adding', 'VBG'), ('usually', 'RB'), ('60', 'CD'), ('%', 'NN'), ('saplings', 'NNS'), ('survive', 'VBP'), ('.', '.'), ('rest', 'VB'), ('succumb', 'JJ'), ('disease', 'NN'), ('lack', 'NN'), ('water', 'NN'), ('.', '.'), ('However', 'RB'), (',', ','), ('said', 'VBD'), ('80', 'CD'), ('%', 'NN'), ('saplings', 'NNS'), ('planted', 'VBN'), ('last', 'JJ'), ('four', 'CD'), ('annual', 'JJ'), ('drives', 'NNS'), ('survived', 'VBD'), ('.', '.'), ('``', '``'), ('regions', 'NNS'), ('plantation', 'NN'), ('carried', 'VBD'), ('geo-tagged', 'JJ'), ('ascertain', 'NN'), ('exactly', 'RB'), ('happened', 'VBD'), (',', ','), (\"''\", \"''\"), ('Chauhan', 'NNP'), ('told', 'VBD'), ('Pioneer', 'NNP'), ('newspaper', 'NN'), ('.', '.'), ('``', '``'), ('saplings', 'NNS'), ('carry', 'VBP'), ('QR', 'NNP'), ('codes', 'NNS'), ('officials', 'NNS'), ('maintain', 'VBP'), ('record', 'NN'), ('verify', 'NN'), ('whether', 'IN'), ('saplings', 'NNS'), ('survived', 'VBN'), ('.', '.'), ('Besides', 'IN'), (',', ','), ('teams', 'NNS'), ('formed', 'VBD'), ('monitor', 'JJ'), ('progress', 'JJ'), ('plantation', 'NN'), ('drive', 'NN'), (',', ','), (\"''\", \"''\"), ('said', 'VBD'), ('.', '.'), ('extent', 'NN'), ('India', 'NNP'), (\"'s\", 'POS'), ('tree', 'NN'), ('planting', 'NN'), ('project', 'NN'), ('?', '.'), ('India', 'NNP'), ('vowed', 'VBD'), ('third', 'JJ'), ('total', 'JJ'), ('land', 'NN'), ('area', 'NN'), (',', ','), ('95', 'CD'), ('million', 'CD'), ('hectares', 'NNS'), (',', ','), ('forest', 'JJS'), ('tree', 'NN'), ('cover', 'NN'), ('2030', 'CD'), ('.', '.'), ('government', 'NN'), ('allocated', 'VBD'), ('$', '$'), ('6.2', 'CD'), ('billion', 'CD'), ('(', '('), ('€5.2', 'NNP'), ('billion', 'CD'), (')', ')'), ('tree-planting', 'NN'), ('across', 'IN'), ('country', 'NN'), ('.', '.'), ('However', 'RB'), (',', ','), ('industrial', 'JJ'), ('development', 'NN'), ('rapidly', 'RB'), ('growing', 'VBG'), ('population', 'NN'), ('put', 'VBD'), ('stress', 'JJ'), ('land', 'NN'), ('.', '.')]\n"
     ]
    }
   ],
   "source": [
    "# Step 3: POS Tagging\n",
    "def pos_tagging(tokens):\n",
    "    return nltk.pos_tag(tokens)\n",
    "\n",
    "# POS Tagging\n",
    "tagged_doc1 = nltk.pos_tag(tokens_doc1)\n",
    "tagged_doc2 = nltk.pos_tag(tokens_doc2)\n",
    "\n",
    "print(\"POS Tagged Document 1:\", tagged_doc1)\n",
    "print(\"POS Tagged Document 2:\", tagged_doc2)"
   ]
  },
  {
   "cell_type": "markdown",
   "id": "81cbcb6f-7c2b-4415-84d5-feb9b3a8d3a2",
   "metadata": {},
   "source": [
    "# Stemming\n",
    "\n",
    "**Stemming** in Natural Language Processing (NLP) refers to the process of reducing a word to its **base or root form**, typically by removing suffixes and prefixes. The resulting base form is known as the *stem*.\n",
    "\n",
    "For example:  \n",
    "**eating**, **eats**, **eaten** → **eat**\n",
    "\n",
    "### Purpose of Stemming\n",
    "\n",
    "Stemming is a **linguistic normalization** technique used to:\n",
    "\n",
    "- Extract the base form of a word.\n",
    "- Improve the efficiency of NLP tasks.\n",
    "- Reduce the number of word forms stored or analyzed.\n",
    "\n",
    "It's similar to trimming a tree down to its stem—removing extra branches (prefixes/suffixes) to focus on the core.\n",
    "\n",
    "### Applications\n",
    "\n",
    "- **Search Engines**: To index and retrieve documents more effectively.  \n",
    "  Instead of storing multiple word forms, only the **stem** is indexed, reducing storage and improving accuracy.\n",
    "\n",
    "## Porter's Stemmer Algorithm\n",
    "\n",
    "One of the most widely used stemming algorithms, **Porter’s Stemmer** was introduced in 1980. It is popular for its:\n",
    "\n",
    "- **Speed**\n",
    "- **Simplicity**\n",
    "- Suitability for **English-only** text\n",
    "\n",
    "### How it Works\n",
    "\n",
    "The algorithm reduces words by identifying and removing common **suffix patterns**, often in multiple steps.\n",
    "\n",
    "> Example Rule:  \n",
    "> If a word ends in **EED** and contains a vowel-consonant sequence before it, replace **EED** with **EE**.  \n",
    ">  \n",
    "> - \"agreed\" → \"agree\"\n",
    "\n",
    "### Key Points\n",
    "\n",
    "- Often used in **Data Mining** and **Information Retrieval**\n",
    "- Final stemmed words are **not always meaningful** words\n",
    "- Oldest and one of the most effective stemmers in NLP\n",
    "- Maps a group of related words to a **single root form**\n"
   ]
  },
  {
   "cell_type": "code",
   "execution_count": 13,
   "id": "8718b329-efbc-4121-8ebf-bcab43f3b793",
   "metadata": {},
   "outputs": [
    {
     "name": "stdout",
     "output_type": "stream",
     "text": [
      "Stemmed Document 1: ['2016', '2019', ',', 'state', 'forest', 'depart', 'bjp', 'govern', 'launch', '‘', 'green', 'maharashtra', '’', 'drive', 'aim', 'plant', '50', 'crore', 'tree', 'across', 'state', 'four-year', 'period', '.', 'octob', '2019', ',', 'govern', 'claim', 'surpass', 'target', 'plant', '33', 'crore', 'tree', 'july-septemb', '2019', '.', 'indian', 'express', 'found', 'non-forest', 'agenc', '—', 'gram', 'panchayat', '—', 'task', 'plant', 'tree', 'upload', 'mandatori', 'audio-visu', 'proof', 'tree', 'plantat', 'drive', 'special', 'creat', 'portal', '.', 'pune', 'revenu', 'divis', ',', 'claim', 'gram', 'panchayat', 'plant', '1.7', 'crore', 'sapl', ';', 'howev', ',', 'evid', 'upload', '87', 'per', 'cent', '(', '1.49', 'crore', ')', 'sapl', '.', 'also', ',', '59', 'govern', 'agenc', 'involv', 'drive', 'mani', '38', 'submit', 'surviv', 'report', 'sapl', '.', 'year', ',', 'target', 'set', 'forest', 'depart', 'compar', 'modest', '.', 'exampl', ',', 'pune', 'circl', '—', 'compris', 'three', 'divis', 'pune', 'solapur', 'district', '—', 'plan', 'plant', '17', 'lakh', 'sapl', 'forest', 'land', '.', 'howev', ',', 'may', 'meet', 'target', 'due', 'unavail', 'fund', '.', 'last', 'year', 'pune', 'circl', 'plant', '70', 'lakh', 'sapl', 'forest', 'land', '.', 'pune', 'divis', '—', 'compris', 'six', 'taluka', 'name', 'maval', ',', 'mulshi', ',', 'daund', ',', 'indapur', ',', 'baramati', 'havv', '—', 'prepar', 'done', 'plantat', '4', 'lakh', 'tree', 'special', 'emphasi', 'teakwood', '.', 'nation', 'forest', 'polici', 'aim', 'emphas', 'maintain', '33', '%', 'countri', '’', 'geograph', 'area', 'forest', 'green', 'cover', '.', 'view', 'part', '50', 'crore', 'plantat', 'programm', 'within', 'maharashtra', ',', 'maharashtra', 'forest', 'depart', 'aim', 'plant', '4', 'crore', 'sapl', 'state', '1st', 'juli', '7th', ',', '2017', 'celebr', '‘', 'vanmohotsav', '’', '.', 'plantat', 'programm', ',', 'announc', '2016', 'aim', 'plant', '2', 'crore', 'tree', '1st', 'juli', '2016', 'resound', 'success', 'final', 'total', 'report', 'figur', '2.82', 'crore', 'sapl', 'plant', 'singl', 'day', '.', 'maintain', 'consist', 'platform', 'without', 'affect', 'momentum', ',', 'forest', 'depart', 'set', 'target', 'plantat', '4', 'crore', ',', '13', 'crore', '33', 'crore', 'sapl', 'mission', '50', 'crore', 'plantat', 'shall', 'accomplish', 'three', 'consecut', 'year', 'viz', '.', '2017', ',', '2018', '2019', '.', '4', 'crore', 'sapl', 'year', '2017', 'plant', 'vanmohotsav', ',', 'juli', '1st', 'juli', '7th', 'state-wid', 'drive', 'involv', '33', 'govern', 'depart', 'along', 'student', 'school', 'colleg', ',', 'nss', ',', 'ncc', ',', 'csr', ',', 'ngo', ',', 'railway', ',', 'nation', 'highway', ',', 'defenc', ',', 'nabard', 'stakehold', 'societi', '.', 'first', 'kind', ',', '24-hour', 'toll', 'free', 'helplin', 'number', '1926', 'call', '‘', 'hello', 'forest', '’', 'set', 'provid', 'inform', 'regard', 'plantat', ',', 'protect', 'mass', 'awar', '.', 'forest', 'depart', 'creat', 'mobil', 'applic', 'call', '‘', 'plant', '’', 'record', 'detail', 'plantat', 'number', ',', 'speci', 'locat', 'comput', 'system', 'forest', 'depart', '.', 'volunt', 'individu', ',', 'collect', 'organiz', 'level', 'download', 'use', 'applic', 'record', 'tree', 'plantat', 'work', 'applic', ',', 'oper', '1st', 'juli', '7th', 'juli', '.', 'conson', 'public', 'particip', ',', 'maharashtra', 'forest', 'depart', 'initi', '‘', 'maharashtra', 'harit', 'sena', '’', '/', '‘', 'green', 'armi', '’', 'bodi', 'dedic', 'volunt', 'particip', 'plantat', ',', 'protect', ',', 'activ', 'forest', ',', 'wildlif', ',', 'relat', 'sector', 'around', 'year', '.', 'individu', 'organis', 'interest', 'volunt', 'regist', 'green', 'armi', 'websit', 'www.greenarmy.mahaforest.gov.in', 'integr', 'drive', 'set', 'place', 'ensur', 'seamless', 'success', 'particip', 'stakehold', 'societi', ',', 'especi', 'public', '.']\n",
      "Stemmed Document 2: ['million', 'peopl', 'india', 'took', 'part', 'annual', 'tree', 'plant', 'drive', 'sunday', '.', '250', 'million', 'sapl', 'plant', 'singl', 'day', 'across', 'countri', \"'s\", 'most-popul', 'state', '.', 'campaign', 'led', 'uttar', 'pradesh', 'state', 'govern', 'offici', ',', 'lawmak', ',', 'activist', ',', 'bid', 'reduc', 'carbon', 'emiss', 'combat', 'climat', 'chang', '.', 'tree', 'plant', '?', 'sapl', 'plant', 'volunt', 'forest', ',', 'farm', ',', 'school', ',', 'along', 'riverbank', 'highway', '.', '``', 'commit', 'increas', 'forest', 'cover', 'uttar', 'pradesh', '15', '%', 'total', 'land', 'area', 'next', 'five', 'year', ',', \"''\", 'said', 'state', 'forest', 'offici', 'manoj', 'singh', '.', 'accord', 'anoth', 'govern', 'offici', ',', 'forest', 'cover', 'state', 'increas', 'last', 'year', '.', '``', 'increas', '127', 'sqare', 'kilomet', '[', '79', 'sqare', 'mile', ']', 'forest', 'cover', 'uttar', 'pradesh', 'compar', '2017', ',', \"''\", 'state', 'govern', 'spokesperson', 'quot', 'say', 'indian', 'express', 'newspap', '.', '``', 'also', 'increas', 'tree', 'plant', '.', 'tree', 'cover', 'increas', '3.05', '%', ',', 'compar', 'nation', 'averag', '2.89', '%', ',', \"''\", 'offici', 'said', ',', 'cite', '2019', 'forest', 'survey', 'india', 'report', '.', 'mani', 'sapl', 'surviv', '?', 'uttar', 'pradesh', 'state', 'forest', 'minist', 'dara', 'singh', 'said', 'long-term', 'surviv', 'sapl', 'remain', 'concern', ',', 'ad', 'usual', '60', '%', 'sapl', 'surviv', '.', 'rest', 'succumb', 'diseas', 'lack', 'water', '.', 'howev', ',', 'said', '80', '%', 'sapl', 'plant', 'last', 'four', 'annual', 'drive', 'surviv', '.', '``', 'region', 'plantat', 'carri', 'geo-tag', 'ascertain', 'exactli', 'happen', ',', \"''\", 'chauhan', 'told', 'pioneer', 'newspap', '.', '``', 'sapl', 'carri', 'qr', 'code', 'offici', 'maintain', 'record', 'verifi', 'whether', 'sapl', 'surviv', '.', 'besid', ',', 'team', 'form', 'monitor', 'progress', 'plantat', 'drive', ',', \"''\", 'said', '.', 'extent', 'india', \"'s\", 'tree', 'plant', 'project', '?', 'india', 'vow', 'third', 'total', 'land', 'area', ',', '95', 'million', 'hectar', ',', 'forest', 'tree', 'cover', '2030', '.', 'govern', 'alloc', '$', '6.2', 'billion', '(', '€5.2', 'billion', ')', 'tree-plant', 'across', 'countri', '.', 'howev', ',', 'industri', 'develop', 'rapidli', 'grow', 'popul', 'put', 'stress', 'land', '.']\n"
     ]
    }
   ],
   "source": [
    "# Step 4: Stemming\n",
    "def stemming(tokens):\n",
    "    stemmer = PorterStemmer()\n",
    "    after_stemming = []\n",
    "    for token in tokens:\n",
    "        after_stemming.append(stemmer.stem(token))\n",
    "    # return [stemmer.stem(token) for token in tokens]\n",
    "    return after_stemming\n",
    "    \n",
    "# Stemming\n",
    "stemmed_doc1 = stemming(tokens_doc1)\n",
    "stemmed_doc2 = stemming(tokens_doc2)\n",
    "\n",
    "print(\"Stemmed Document 1:\", stemmed_doc1)\n",
    "print(\"Stemmed Document 2:\", stemmed_doc2)"
   ]
  },
  {
   "cell_type": "markdown",
   "id": "ed12fc8e-0a15-4d46-a27f-b3b64fcf63d5",
   "metadata": {},
   "source": [
    "# Lemmatization\n",
    "\n",
    "**Lemmatization** is the process of grouping together the different inflected forms of a word so they can be analyzed as a single item. Unlike **stemming**, lemmatization takes the **context** of the word into account, ensuring the words are reduced to their **root or base form**, also known as a **lemma**.\n",
    "\n",
    "### Example:\n",
    "- **rocks** → **rock**\n",
    "- **corpora** → **corpus**\n",
    "- **better** → **good**\n",
    "\n",
    "Lemmatization works by analyzing a word's context and reducing it to its lemma. For example, the verb **\"walk\"** could appear as **\"walking\"**, **\"walks\"**, or **\"walked\"** in different contexts. In lemmatization, inflectional endings like **\"s\"**, **\"ed\"**, and **\"ing\"** are removed, grouping these words together under the root form **\"walk\"**.\n",
    "\n",
    "---\n",
    "\n",
    "### Stemming vs Lemmatization\n",
    "\n",
    "| **Aspect**            | **Stemming**                                      | **Lemmatization**                                      |\n",
    "|-----------------------|---------------------------------------------------|--------------------------------------------------------|\n",
    "| **Definition**         | Removes suffixes from a word, often leading to incorrect meanings. | Considers context and converts words to their base form (lemma). |\n",
    "| **Example**            | \"Caring\" → \"Car\"                                  | \"Caring\" → \"Care\"                                      |\n",
    "| **Accuracy**           | Can produce meaningless or incorrect words.      | Always produces meaningful words.                      |\n",
    "| **Usage**              | Commonly used in large datasets where performance is critical. | More accurate but computationally expensive.           |\n",
    "| **Performance**        | Faster, more suitable for large datasets.         | Slower, requires look-up tables for accurate results.   |\n"
   ]
  },
  {
   "cell_type": "code",
   "execution_count": 31,
   "id": "bc670bf2-1adc-48c9-97ea-118c110bd0f3",
   "metadata": {},
   "outputs": [
    {
     "name": "stdout",
     "output_type": "stream",
     "text": [
      "Lemmatized Document 1: ['2016', '2019', ',', 'state', 'forest', 'department', 'BJP', 'government', 'launched', '‘', 'Green', 'Maharashtra', '’', 'drive', 'aim', 'plant', '50', 'crore', 'tree', 'across', 'state', 'four-year', 'period', '.', 'October', '2019', ',', 'government', 'claimed', 'surpassed', 'target', 'planting', '33', 'crore', 'tree', 'July-September', '2019', '.', 'Indian', 'Express', 'found', 'non-forest', 'agency', '—', 'gram', 'panchayat', '—', 'tasked', 'planting', 'tree', 'uploaded', 'mandatory', 'audio-visual', 'proof', 'tree', 'plantation', 'drive', 'specially', 'created', 'portal', '.', 'Pune', 'Revenue', 'Division', ',', 'claimed', 'gram', 'panchayat', 'planted', '1.7', 'crore', 'sapling', ';', 'however', ',', 'evidence', 'uploaded', '87', 'per', 'cent', '(', '1.49', 'crore', ')', 'sapling', '.', 'Also', ',', '59', 'government', 'agency', 'involved', 'drive', 'many', '38', 'submitted', 'survival', 'report', 'sapling', '.', 'year', ',', 'target', 'set', 'forest', 'department', 'comparatively', 'modest', '.', 'example', ',', 'Pune', 'Circle', '—', 'comprises', 'three', 'division', 'Pune', 'Solapur', 'district', '—', 'planned', 'plant', '17', 'lakh', 'sapling', 'forest', 'land', '.', 'However', ',', 'may', 'meet', 'target', 'due', 'unavailability', 'fund', '.', 'Last', 'year', 'Pune', 'Circle', 'planted', '70', 'lakh', 'sapling', 'forest', 'land', '.', 'Pune', 'Division', '—', 'comprises', 'six', 'talukas', 'namely', 'Maval', ',', 'Mulshi', ',', 'Daund', ',', 'Indapur', ',', 'Baramati', 'Havveli', '—', 'preparation', 'done', 'plantation', '4', 'lakh', 'tree', 'special', 'emphasis', 'teakwood', '.', 'National', 'Forest', 'Policy', 'aim', 'emphasizes', 'maintaining', '33', '%', 'country', '’', 'geographical', 'area', 'forest', 'green', 'cover', '.', 'view', 'part', '50', 'crore', 'plantation', 'programme', 'within', 'Maharashtra', ',', 'Maharashtra', 'Forest', 'Department', 'aim', 'plant', '4', 'crore', 'sapling', 'State', '1st', 'July', '7th', ',', '2017', 'celebrate', '‘', 'Vanmohotsav', '’', '.', 'plantation', 'programme', ',', 'announced', '2016', 'aim', 'planting', '2', 'crore', 'tree', '1st', 'July', '2016', 'resounding', 'success', 'final', 'total', 'reported', 'figure', '2.82', 'crore', 'sapling', 'planted', 'single', 'day', '.', 'maintain', 'consistency', 'platform', 'without', 'affecting', 'momentum', ',', 'Forest', 'Department', 'set', 'target', 'plantation', '4', 'crore', ',', '13', 'crore', '33', 'crore', 'sapling', 'mission', '50', 'crore', 'plantation', 'shall', 'accomplished', 'three', 'consecutive', 'year', 'viz', '.', '2017', ',', '2018', '2019', '.', '4', 'crore', 'sapling', 'year', '2017', 'planted', 'Vanmohotsav', ',', 'July', '1st', 'July', '7th', 'state-wide', 'drive', 'involvement', '33', 'government', 'department', 'along', 'Students', 'Schools', 'Colleges', ',', 'NSS', ',', 'NCC', ',', 'CSR', ',', 'NGOs', ',', 'Railways', ',', 'National', 'Highways', ',', 'Defence', ',', 'NABARD', 'stakeholder', 'Society', '.', 'first', 'kind', ',', '24-hour', 'toll', 'free', 'helpline', 'number', '1926', 'called', '‘', 'Hello', 'Forest', '’', 'set', 'provide', 'information', 'regarding', 'plantation', ',', 'protection', 'mass', 'awareness', '.', 'Forest', 'Department', 'created', 'mobile', 'application', 'called', '‘', 'Plants', '’', 'record', 'detail', 'plantation', 'number', ',', 'specie', 'location', 'computer', 'system', 'Forest', 'Department', '.', 'volunteer', 'individual', ',', 'collective', 'organizational', 'level', 'download', 'use', 'application', 'record', 'tree', 'plantation', 'work', 'application', ',', 'operational', '1st', 'July', '7th', 'July', '.', 'consonance', 'public', 'participation', ',', 'Maharashtra', 'Forest', 'Department', 'initiated', '‘', 'Maharashtra', 'Harit', 'Sena', '’', '/', '‘', 'Green', 'Army', '’', 'body', 'dedicated', 'volunteer', 'participate', 'plantation', ',', 'protection', ',', 'activity', 'forest', ',', 'wildlife', ',', 'related', 'sector', 'around', 'year', '.', 'Individuals', 'organisation', 'interested', 'volunteering', 'register', 'Green', 'Army', 'website', 'www.greenarmy.mahaforest.gov.in', 'integrated', 'drive', 'set', 'place', 'ensure', 'seamless', 'successful', 'participation', 'stakeholder', 'society', ',', 'especially', 'public', '.']\n",
      "Lemmatized Document 2: ['Millions', 'people', 'India', 'took', 'part', 'annual', 'tree', 'planting', 'drive', 'Sunday', '.', '250', 'million', 'sapling', 'planted', 'single', 'day', 'across', 'country', \"'s\", 'most-populous', 'state', '.', 'campaign', 'led', 'Uttar', 'Pradesh', 'state', 'government', 'official', ',', 'lawmaker', ',', 'activist', ',', 'bid', 'reduce', 'carbon', 'emission', 'combat', 'climate', 'change', '.', 'tree', 'planted', '?', 'sapling', 'planted', 'volunteer', 'forest', ',', 'farm', ',', 'school', ',', 'along', 'riverbank', 'highway', '.', '``', 'committed', 'increasing', 'forest', 'cover', 'Uttar', 'Pradesh', '15', '%', 'total', 'land', 'area', 'next', 'five', 'year', ',', \"''\", 'said', 'state', 'forest', 'official', 'Manoj', 'Singh', '.', 'According', 'another', 'government', 'official', ',', 'forest', 'cover', 'state', 'increased', 'last', 'year', '.', '``', 'increase', '127', 'sqare', 'kilometer', '[', '79', 'sqare', 'mile', ']', 'forest', 'cover', 'Uttar', 'Pradesh', 'compared', '2017', ',', \"''\", 'state', 'government', 'spokesperson', 'quoted', 'saying', 'Indian', 'Express', 'newspaper', '.', '``', 'also', 'increase', 'tree', 'plant', '.', 'tree', 'cover', 'increased', '3.05', '%', ',', 'compared', 'national', 'average', '2.89', '%', ',', \"''\", 'official', 'said', ',', 'citing', '2019', 'Forest', 'Survey', 'India', 'report', '.', 'many', 'sapling', 'survive', '?', 'Uttar', 'Pradesh', 'State', 'Forest', 'Minister', 'Dara', 'Singh', 'said', 'long-term', 'survival', 'sapling', 'remains', 'concern', ',', 'adding', 'usually', '60', '%', 'sapling', 'survive', '.', 'rest', 'succumb', 'disease', 'lack', 'water', '.', 'However', ',', 'said', '80', '%', 'sapling', 'planted', 'last', 'four', 'annual', 'drive', 'survived', '.', '``', 'region', 'plantation', 'carried', 'geo-tagged', 'ascertain', 'exactly', 'happened', ',', \"''\", 'Chauhan', 'told', 'Pioneer', 'newspaper', '.', '``', 'sapling', 'carry', 'QR', 'code', 'official', 'maintain', 'record', 'verify', 'whether', 'sapling', 'survived', '.', 'Besides', ',', 'team', 'formed', 'monitor', 'progress', 'plantation', 'drive', ',', \"''\", 'said', '.', 'extent', 'India', \"'s\", 'tree', 'planting', 'project', '?', 'India', 'vowed', 'third', 'total', 'land', 'area', ',', '95', 'million', 'hectare', ',', 'forest', 'tree', 'cover', '2030', '.', 'government', 'allocated', '$', '6.2', 'billion', '(', '€5.2', 'billion', ')', 'tree-planting', 'across', 'country', '.', 'However', ',', 'industrial', 'development', 'rapidly', 'growing', 'population', 'put', 'stress', 'land', '.']\n"
     ]
    }
   ],
   "source": [
    "# Step 5: Lemmatization\n",
    "def lemmatization(tokens):\n",
    "    lemmatizer = WordNetLemmatizer()\n",
    "    return [lemmatizer.lemmatize(token) for token in tokens]\n",
    "\n",
    "# Lemmatization\n",
    "lemmatized_doc1 = lemmatization(tokens_doc1)\n",
    "lemmatized_doc2 = lemmatization(tokens_doc2)\n",
    "\n",
    "print(\"Lemmatized Document 1:\", lemmatized_doc1)\n",
    "print(\"Lemmatized Document 2:\", lemmatized_doc2)"
   ]
  },
  {
   "cell_type": "markdown",
   "id": "842baab9-31dd-4981-b596-01f7c5f47942",
   "metadata": {},
   "source": [
    "# TF-IDF (Term Frequency - Inverse Document Frequency)\n",
    "\n",
    "**TF-IDF** is a statistical measure used in Natural Language Processing (NLP) and information retrieval to evaluate how important a word is to a document in a collection or corpus. It helps identify which words are more significant or unique in a specific document compared to the entire corpus.\n",
    "\n",
    "The **TF-IDF** score is calculated by combining two components:\n",
    "\n",
    "1. **Term Frequency (TF)**\n",
    "2. **Inverse Document Frequency (IDF)**\n",
    "\n",
    "### Components of TF-IDF\n",
    "\n",
    "## 1. **Term Frequency (TF)**\n",
    "\n",
    "**Term Frequency** (TF) measures how often a term appears in a document relative to the total number of terms in that document. It is calculated using the formula:\n",
    "\n",
    "$$\n",
    "\\text{TF}(t) = \\frac{\\text{Number of times term } t \\text{ appears in a document}}{\\text{Total number of terms in the document}}\n",
    "$$\n",
    "\n",
    "Where:\n",
    "- \\( t \\) is the specific term.\n",
    "- The numerator is the number of times the term appears in the document.\n",
    "- The denominator is the total number of words (terms) in the document.\n",
    "\n",
    "## 2. **Inverse Document Frequency (IDF)**\n",
    "\n",
    "**Inverse Document Frequency** (IDF) is used to measure how important a term is in the overall corpus. The idea is that terms that appear frequently across many documents are not as valuable for distinguishing between documents. IDF is calculated using the following formula:\n",
    "\n",
    "$$\n",
    "\\text{IDF}(t) = \\log \\left( \\frac{N}{df(t)} \\right)\n",
    "$$\n",
    "\n",
    "Where:\n",
    "- \\( N \\) is the total number of documents in the corpus.\n",
    "- \\( df(t) \\) is the number of documents containing the term \\( t \\).\n",
    "\n",
    "The logarithmic scale helps to dampen the effect of terms that appear in many documents.\n",
    "\n",
    "## **TF-IDF Calculation**\n",
    "\n",
    "The **TF-IDF** score is simply the product of **TF** and **IDF** for a given term \\( t \\):\n",
    "\n",
    "$$\n",
    "\\text{TF-IDF}(t) = \\text{TF}(t) \\times \\text{IDF}(t)\n",
    "$$\n",
    "\n",
    "This score reflects both:\n",
    "- The frequency of the term in a specific document (TF).\n",
    "- The importance of the term in the entire corpus (IDF).\n",
    "\n",
    "### Example:\n",
    "\n",
    "Let’s say we have the following three documents in a corpus:\n",
    "\n",
    "- **Document 1**: \"I love NLP.\"\n",
    "- **Document 2**: \"NLP is amazing.\"\n",
    "- **Document 3**: \"I love coding.\"\n",
    "\n",
    "We want to calculate the TF-IDF for the term **\"love\"** in **Document 1**.\n",
    "\n",
    "1. **Term Frequency (TF)** for **\"love\"** in **Document 1**:\n",
    "\n",
    "$$\n",
    "\\text{TF}(\\text{love}) = \\frac{1}{4} = 0.25 \\quad \\text{(since \"love\" appears once in Document 1, and Document 1 has 4 words)}\n",
    "$$\n",
    "\n",
    "2. **Inverse Document Frequency (IDF)** for **\"love\"**:\n",
    "\n",
    "The term **\"love\"** appears in **Document 1** and **Document 3**, so the document frequency \\( df(\\text{love}) = 2 \\).\n",
    "\n",
    "$$\n",
    "\\text{IDF}(\\text{love}) = \\log \\left( \\frac{3}{2} \\right) \\approx 0.1761 \\quad \\text{(there are 3 documents in total, and \"love\" appears in 2 of them)}\n",
    "$$\n",
    "\n",
    "3. **TF-IDF** for **\"love\"** in **Document 1**:\n",
    "\n",
    "$$\n",
    "\\text{TF-IDF}(\\text{love}) = 0.25 \\times 0.1761 \\approx 0.0440\n",
    "$$\n",
    "\n",
    "### Significance of TF-IDF:\n",
    "- **High TF-IDF values** indicate terms that are important and unique to a specific document.\n",
    "- **Low TF-IDF values** indicate common terms that are not distinctive across documents.\n",
    "\n",
    "### Applications of TF-IDF:\n",
    "- **Search Engines**: TF-IDF helps determine which terms are most important in a document relative to a query.\n",
    "- **Text Classification**: It is used to extract important features for machine learning models.\n",
    "- **Topic Modeling**: Identifying key topics within a collection of documents.\n"
   ]
  },
  {
   "cell_type": "code",
   "execution_count": 19,
   "id": "d48db804-66af-44d6-b658-9e7300ff45ea",
   "metadata": {},
   "outputs": [
    {
     "name": "stdout",
     "output_type": "stream",
     "text": [
      "Term Frequency (TF) for Document 1: {'Between': 0.0014749262536873156, '2016': 0.004424778761061947, 'and': 0.02654867256637168, '2019': 0.0058997050147492625, ',': 0.05604719764011799, 'the': 0.058997050147492625, 'state': 0.0029498525073746312, 'forest': 0.008849557522123894, 'department': 0.0029498525073746312, 'under': 0.004424778761061947, 'BJP': 0.0014749262536873156, 'government': 0.0058997050147492625, 'had': 0.01032448377581121, 'launched': 0.0014749262536873156, '‘': 0.008849557522123894, 'Green': 0.004424778761061947, 'Maharashtra': 0.007374631268436578, '’': 0.01032448377581121, 'drive': 0.0058997050147492625, 'with': 0.01032448377581121, 'an': 0.0014749262536873156, 'aim': 0.0029498525073746312, 'to': 0.019174041297935103, 'plant': 0.004424778761061947, '50': 0.004424778761061947, 'crore': 0.019174041297935103, 'trees': 0.007374631268436578, 'across': 0.0014749262536873156, 'in': 0.016224188790560472, 'four-year': 0.0014749262536873156, 'period': 0.0014749262536873156, '.': 0.030973451327433628, 'In': 0.008849557522123894, 'October': 0.0014749262536873156, 'claimed': 0.0029498525073746312, 'it': 0.004424778761061947, 'surpassed': 0.0014749262536873156, 'target': 0.004424778761061947, 'by': 0.0029498525073746312, 'planting': 0.004424778761061947, '33': 0.0058997050147492625, 'July-September': 0.0014749262536873156, 'The': 0.007374631268436578, 'Indian': 0.0014749262536873156, 'Express': 0.0014749262536873156, 'found': 0.0014749262536873156, 'that': 0.0014749262536873156, 'non-forest': 0.0014749262536873156, 'agencies': 0.0029498525073746312, '—': 0.008849557522123894, 'such': 0.0029498525073746312, 'as': 0.007374631268436578, 'gram': 0.0029498525073746312, 'panchayats': 0.0029498525073746312, 'which': 0.01032448377581121, 'were': 0.004424778761061947, 'tasked': 0.0014749262536873156, 'not': 0.004424778761061947, 'uploaded': 0.0029498525073746312, 'mandatory': 0.0014749262536873156, 'audio-visual': 0.0014749262536873156, 'proof': 0.0014749262536873156, 'of': 0.032448377581120944, 'tree': 0.0029498525073746312, 'plantation': 0.014749262536873156, 'drives': 0.0014749262536873156, 'on': 0.01032448377581121, 'specially': 0.0014749262536873156, 'created': 0.0029498525073746312, 'portal': 0.0014749262536873156, 'Pune': 0.007374631268436578, 'Revenue': 0.0014749262536873156, 'Division': 0.0029498525073746312, 'was': 0.0058997050147492625, 'planted': 0.0058997050147492625, '1.7': 0.0014749262536873156, 'saplings': 0.01327433628318584, ';': 0.0014749262536873156, 'however': 0.0014749262536873156, 'no': 0.0014749262536873156, 'evidence': 0.0014749262536873156, 'for': 0.0058997050147492625, '87': 0.0014749262536873156, 'per': 0.0014749262536873156, 'cent': 0.0014749262536873156, '(': 0.0014749262536873156, '1.49': 0.0014749262536873156, ')': 0.0014749262536873156, 'Also': 0.0014749262536873156, 'out': 0.0014749262536873156, '59': 0.0014749262536873156, 'involved': 0.0014749262536873156, 'many': 0.0014749262536873156, '38': 0.0014749262536873156, 'submitted': 0.0014749262536873156, 'survival': 0.0014749262536873156, 'reports': 0.0014749262536873156, 'about': 0.0029498525073746312, 'This': 0.0014749262536873156, 'year': 0.0058997050147492625, 'targets': 0.0014749262536873156, 'set': 0.0058997050147492625, 'comparatively': 0.0014749262536873156, 'modest': 0.0014749262536873156, 'For': 0.0014749262536873156, 'example': 0.0014749262536873156, 'Circle': 0.0029498525073746312, 'comprises': 0.0029498525073746312, 'three': 0.0029498525073746312, 'divisions': 0.0014749262536873156, 'Solapur': 0.0014749262536873156, 'district': 0.0014749262536873156, 'planned': 0.0014749262536873156, '17': 0.0014749262536873156, 'lakh': 0.004424778761061947, 'land': 0.0029498525073746312, 'However': 0.0014749262536873156, 'may': 0.0014749262536873156, 'meet': 0.0014749262536873156, 'due': 0.0014749262536873156, 'unavailability': 0.0014749262536873156, 'funds': 0.0014749262536873156, 'Last': 0.0014749262536873156, '70': 0.0014749262536873156, 'six': 0.0014749262536873156, 'talukas': 0.0014749262536873156, 'namely': 0.0014749262536873156, 'Maval': 0.0014749262536873156, 'Mulshi': 0.0014749262536873156, 'Daund': 0.0014749262536873156, 'Indapur': 0.0014749262536873156, 'Baramati': 0.0014749262536873156, 'Havveli': 0.0014749262536873156, 'preparations': 0.0014749262536873156, 'done': 0.0014749262536873156, '4': 0.0058997050147492625, 'special': 0.0014749262536873156, 'emphasis': 0.0014749262536873156, 'teakwood': 0.0014749262536873156, 'National': 0.0029498525073746312, 'Forest': 0.01032448377581121, 'Policy': 0.0014749262536873156, 'aims': 0.0029498525073746312, 'emphasizes': 0.0014749262536873156, 'at': 0.0029498525073746312, 'maintaining': 0.0014749262536873156, '%': 0.0014749262536873156, 'country': 0.0014749262536873156, 's': 0.0014749262536873156, 'geographical': 0.0014749262536873156, 'area': 0.0014749262536873156, 'green': 0.0014749262536873156, 'cover': 0.0014749262536873156, 'view': 0.0014749262536873156, 'this': 0.004424778761061947, 'a': 0.011799410029498525, 'part': 0.0014749262536873156, 'programme': 0.0029498525073746312, 'within': 0.0014749262536873156, 'Department': 0.007374631268436578, 'all': 0.0029498525073746312, 'over': 0.0014749262536873156, 'State': 0.0014749262536873156, 'between': 0.0014749262536873156, '1st': 0.0058997050147492625, 'July': 0.008849557522123894, '7th': 0.004424778761061947, '2017': 0.004424778761061947, 'celebrate': 0.0014749262536873156, 'Vanmohotsav': 0.0029498525073746312, 'announced': 0.0014749262536873156, '2': 0.0014749262536873156, 'resounding': 0.0014749262536873156, 'success': 0.0014749262536873156, 'final': 0.0014749262536873156, 'total': 0.0014749262536873156, 'reported': 0.0014749262536873156, 'figure': 0.0014749262536873156, '2.82': 0.0014749262536873156, 'single': 0.0014749262536873156, 'day': 0.0014749262536873156, 'To': 0.0014749262536873156, 'maintain': 0.0014749262536873156, 'consistency': 0.0014749262536873156, 'platform': 0.0014749262536873156, 'without': 0.0014749262536873156, 'affecting': 0.0014749262536873156, 'its': 0.0029498525073746312, 'momentum': 0.0014749262536873156, 'has': 0.007374631268436578, '13': 0.0014749262536873156, 'mission': 0.0014749262536873156, 'shall': 0.0014749262536873156, 'be': 0.004424778761061947, 'accomplished': 0.0014749262536873156, 'consecutive': 0.0014749262536873156, 'years': 0.0014749262536873156, 'viz': 0.0014749262536873156, '2018': 0.0014749262536873156, 'will': 0.0029498525073746312, 'during': 0.0014749262536873156, 'state-wide': 0.0014749262536873156, 'involvement': 0.0014749262536873156, 'departments': 0.0014749262536873156, 'along': 0.0014749262536873156, 'Students': 0.0014749262536873156, 'Schools': 0.0014749262536873156, 'Colleges': 0.0014749262536873156, 'NSS': 0.0014749262536873156, 'NCC': 0.0014749262536873156, 'CSR': 0.0014749262536873156, 'NGOs': 0.0014749262536873156, 'Railways': 0.0014749262536873156, 'Highways': 0.0014749262536873156, 'Defence': 0.0014749262536873156, 'NABARD': 0.0014749262536873156, 'other': 0.0014749262536873156, 'stakeholders': 0.0029498525073746312, 'Society': 0.0014749262536873156, 'first': 0.0014749262536873156, 'kind': 0.0014749262536873156, '24-hour': 0.0014749262536873156, 'toll': 0.0014749262536873156, 'free': 0.0014749262536873156, 'helpline': 0.0014749262536873156, 'number': 0.0014749262536873156, '1926': 0.0014749262536873156, 'called': 0.0029498525073746312, 'Hello': 0.0014749262536873156, 'been': 0.0029498525073746312, 'up': 0.0014749262536873156, 'provide': 0.0014749262536873156, 'information': 0.0014749262536873156, 'regarding': 0.0014749262536873156, 'protection': 0.0029498525073746312, 'mass': 0.0014749262536873156, 'awareness': 0.0014749262536873156, 'mobile': 0.0014749262536873156, 'application': 0.004424778761061947, 'My': 0.0014749262536873156, 'Plants': 0.0014749262536873156, 'record': 0.0029498525073746312, 'details': 0.0014749262536873156, 'numbers': 0.0014749262536873156, 'species': 0.0014749262536873156, 'location': 0.0014749262536873156, 'into': 0.0014749262536873156, 'computer': 0.0014749262536873156, 'system': 0.0014749262536873156, 'All': 0.0014749262536873156, 'volunteers': 0.0029498525073746312, 'individual': 0.0014749262536873156, 'collective': 0.0014749262536873156, 'organizational': 0.0014749262536873156, 'level': 0.0014749262536873156, 'should': 0.0014749262536873156, 'download': 0.0014749262536873156, 'use': 0.0014749262536873156, 'their': 0.0014749262536873156, 'work': 0.0014749262536873156, 'through': 0.0014749262536873156, 'operational': 0.0014749262536873156, 'from': 0.0029498525073746312, 'consonance': 0.0014749262536873156, 'public': 0.0029498525073746312, 'participation': 0.0029498525073746312, 'initiated': 0.0014749262536873156, 'Harit': 0.0014749262536873156, 'Sena': 0.0014749262536873156, '/': 0.0014749262536873156, 'Army': 0.0029498525073746312, 'is': 0.0014749262536873156, 'body': 0.0014749262536873156, 'dedicated': 0.0014749262536873156, 'participate': 0.0014749262536873156, 'activities': 0.0014749262536873156, 'wildlife': 0.0014749262536873156, 'related': 0.0014749262536873156, 'sectors': 0.0014749262536873156, 'around': 0.0014749262536873156, 'Individuals': 0.0014749262536873156, 'organisations': 0.0014749262536873156, 'interested': 0.0014749262536873156, 'volunteering': 0.0014749262536873156, 'can': 0.0014749262536873156, 'register': 0.0014749262536873156, 'website': 0.0014749262536873156, 'www.greenarmy.mahaforest.gov.in': 0.0014749262536873156, 'An': 0.0014749262536873156, 'integrated': 0.0014749262536873156, 'place': 0.0014749262536873156, 'ensure': 0.0014749262536873156, 'seamless': 0.0014749262536873156, 'successful': 0.0014749262536873156, 'society': 0.0014749262536873156, 'especially': 0.0014749262536873156}\n",
      "Term Frequency (TF) for Document 2: {'Millions': 0.002304147465437788, 'of': 0.03225806451612903, 'people': 0.002304147465437788, 'in': 0.02534562211981567, 'India': 0.009216589861751152, 'took': 0.002304147465437788, 'part': 0.002304147465437788, 'an': 0.0069124423963133645, 'annual': 0.004608294930875576, 'tree': 0.009216589861751152, 'planting': 0.004608294930875576, 'drive': 0.004608294930875576, 'Sunday': 0.002304147465437788, '.': 0.041474654377880185, 'More': 0.002304147465437788, 'than': 0.002304147465437788, '250': 0.002304147465437788, 'million': 0.004608294930875576, 'saplings': 0.018433179723502304, 'were': 0.0069124423963133645, 'planted': 0.009216589861751152, 'a': 0.016129032258064516, 'single': 0.002304147465437788, 'day': 0.002304147465437788, 'across': 0.004608294930875576, 'the': 0.055299539170506916, 'country': 0.004608294930875576, \"'s\": 0.004608294930875576, 'most-populous': 0.002304147465437788, 'state': 0.01152073732718894, 'The': 0.016129032258064516, 'campaign': 0.002304147465437788, 'was': 0.004608294930875576, 'led': 0.002304147465437788, 'by': 0.0069124423963133645, 'Uttar': 0.009216589861751152, 'Pradesh': 0.009216589861751152, 'government': 0.009216589861751152, 'officials': 0.004608294930875576, ',': 0.04608294930875576, 'lawmakers': 0.002304147465437788, 'and': 0.018433179723502304, 'activists': 0.002304147465437788, 'bid': 0.002304147465437788, 'to': 0.02304147465437788, 'reduce': 0.002304147465437788, 'carbon': 0.002304147465437788, 'emissions': 0.002304147465437788, 'combat': 0.002304147465437788, 'climate': 0.002304147465437788, 'change': 0.002304147465437788, 'Where': 0.002304147465437788, 'trees': 0.004608294930875576, '?': 0.0069124423963133645, 'volunteers': 0.002304147465437788, 'forests': 0.002304147465437788, 'farms': 0.002304147465437788, 'schools': 0.002304147465437788, 'along': 0.002304147465437788, 'riverbanks': 0.002304147465437788, 'highways': 0.002304147465437788, '``': 0.01152073732718894, 'We': 0.002304147465437788, 'are': 0.002304147465437788, 'committed': 0.002304147465437788, 'increasing': 0.002304147465437788, 'forest': 0.01152073732718894, 'cover': 0.01152073732718894, 'over': 0.004608294930875576, '15': 0.002304147465437788, '%': 0.01152073732718894, 'total': 0.004608294930875576, 'land': 0.0069124423963133645, 'area': 0.004608294930875576, 'next': 0.002304147465437788, 'five': 0.002304147465437788, 'years': 0.004608294930875576, \"''\": 0.01152073732718894, 'said': 0.01152073732718894, 'official': 0.0069124423963133645, 'Manoj': 0.002304147465437788, 'Singh': 0.004608294930875576, 'According': 0.002304147465437788, 'another': 0.002304147465437788, 'has': 0.016129032258064516, 'increased': 0.004608294930875576, 'last': 0.004608294930875576, 'few': 0.002304147465437788, 'There': 0.004608294930875576, 'been': 0.009216589861751152, 'increase': 0.004608294930875576, '127': 0.002304147465437788, 'sqare': 0.004608294930875576, 'kilometers': 0.002304147465437788, '[': 0.002304147465437788, '79': 0.002304147465437788, 'miles': 0.002304147465437788, ']': 0.002304147465437788, 'as': 0.0069124423963133645, 'compared': 0.004608294930875576, '2017': 0.002304147465437788, 'spokesperson': 0.002304147465437788, 'quoted': 0.002304147465437788, 'saying': 0.002304147465437788, 'Indian': 0.002304147465437788, 'Express': 0.002304147465437788, 'newspaper': 0.004608294930875576, 'also': 0.002304147465437788, 'plants': 0.002304147465437788, '3.05': 0.002304147465437788, 'national': 0.002304147465437788, 'average': 0.002304147465437788, '2.89': 0.002304147465437788, 'citing': 0.002304147465437788, '2019': 0.002304147465437788, 'Forest': 0.004608294930875576, 'Survey': 0.002304147465437788, 'report': 0.002304147465437788, 'How': 0.002304147465437788, 'many': 0.002304147465437788, 'survive': 0.004608294930875576, 'State': 0.002304147465437788, 'Minister': 0.002304147465437788, 'Dara': 0.002304147465437788, 'long-term': 0.002304147465437788, 'survival': 0.002304147465437788, 'remains': 0.002304147465437788, 'concern': 0.002304147465437788, 'adding': 0.002304147465437788, 'that': 0.009216589861751152, 'usually': 0.002304147465437788, 'only': 0.002304147465437788, '60': 0.002304147465437788, 'rest': 0.002304147465437788, 'succumb': 0.002304147465437788, 'disease': 0.002304147465437788, 'or': 0.0069124423963133645, 'lack': 0.002304147465437788, 'water': 0.002304147465437788, 'However': 0.004608294930875576, 'he': 0.004608294930875576, 'about': 0.002304147465437788, '80': 0.002304147465437788, 'four': 0.002304147465437788, 'drives': 0.002304147465437788, 'have': 0.009216589861751152, 'survived': 0.004608294930875576, 'All': 0.002304147465437788, 'regions': 0.002304147465437788, 'where': 0.002304147465437788, 'plantation': 0.004608294930875576, 'is': 0.004608294930875576, 'being': 0.002304147465437788, 'carried': 0.002304147465437788, 'out': 0.002304147465437788, 'geo-tagged': 0.002304147465437788, 'so': 0.004608294930875576, 'we': 0.002304147465437788, 'can': 0.004608294930875576, 'ascertain': 0.002304147465437788, 'what': 0.002304147465437788, 'exactly': 0.002304147465437788, 'happened': 0.002304147465437788, 'Chauhan': 0.002304147465437788, 'told': 0.002304147465437788, 'Pioneer': 0.002304147465437788, 'These': 0.002304147465437788, 'carry': 0.002304147465437788, 'QR': 0.002304147465437788, 'codes': 0.002304147465437788, 'maintain': 0.002304147465437788, 'record': 0.002304147465437788, 'verify': 0.002304147465437788, 'whether': 0.002304147465437788, 'not': 0.002304147465437788, 'Besides': 0.002304147465437788, 'teams': 0.002304147465437788, 'formed': 0.002304147465437788, 'monitor': 0.002304147465437788, 'progress': 0.002304147465437788, 'What': 0.002304147465437788, 'extent': 0.002304147465437788, 'project': 0.002304147465437788, 'vowed': 0.002304147465437788, 'third': 0.002304147465437788, 'its': 0.002304147465437788, '95': 0.002304147465437788, 'hectares': 0.002304147465437788, 'under': 0.002304147465437788, '2030': 0.002304147465437788, 'allocated': 0.002304147465437788, '$': 0.002304147465437788, '6.2': 0.002304147465437788, 'billion': 0.004608294930875576, '(': 0.002304147465437788, '€5.2': 0.002304147465437788, ')': 0.002304147465437788, 'for': 0.002304147465437788, 'tree-planting': 0.002304147465437788, 'industrial': 0.002304147465437788, 'development': 0.002304147465437788, 'rapidly': 0.002304147465437788, 'growing': 0.002304147465437788, 'population': 0.002304147465437788, 'put': 0.002304147465437788, 'further': 0.002304147465437788, 'stress': 0.002304147465437788, 'on': 0.002304147465437788}\n"
     ]
    }
   ],
   "source": [
    "# Step 6: Term Frequency (TF)\n",
    "def calculate_term_freq(doc):\n",
    "    word_tokens = nltk.word_tokenize(doc)\n",
    "    tf_dict = dict()\n",
    "    for word in word_tokens:\n",
    "        tf_dict[word] = word_tokens.count(word)\n",
    "    tf = dict()\n",
    "    for word, count in tf_dict.items():\n",
    "        tf[word] = count / len(word_tokens)\n",
    "    return tf\n",
    "\n",
    "# Calculate Term Frequency (TF)\n",
    "tf_doc1 = calculate_term_freq(doc1)\n",
    "tf_doc2 = calculate_term_freq(doc2)\n",
    "\n",
    "print(\"Term Frequency (TF) for Document 1:\", tf_doc1)\n",
    "print(\"Term Frequency (TF) for Document 2:\", tf_doc2)"
   ]
  },
  {
   "cell_type": "code",
   "execution_count": 20,
   "id": "32fee18c-f70d-4311-bfa8-a5cc71d469a2",
   "metadata": {},
   "outputs": [
    {
     "name": "stdout",
     "output_type": "stream",
     "text": [
      "Inverse Document Frequency (IDF): {'emphasizes': 0.0, 'during': 0.0, '?': 0.0, 'remains': 0.0, 'reports': 0.0, 'put': 0.0, 'activities': 0.0, 'initiated': 0.0, '2.89': 0.0, '95': 0.0, 'Daund': 0.0, 'part': -0.40546510810816444, 'However': -0.40546510810816444, 'download': 0.0, 'Besides': 0.0, 'Uttar': 0.0, 'BJP': 0.0, 'monitor': 0.0, 'up': 0.0, '€5.2': 0.0, 'Highways': 0.0, 'free': 0.0, 'year': 0.0, 'five': 0.0, 'State': -0.40546510810816444, 'helpline': 0.0, 'modest': 0.0, 'maintaining': 0.0, 'participation': 0.0, '87': 0.0, 'regions': 0.0, '2': 0.0, 'between': 0.0, 'quoted': 0.0, 'this': 0.0, 'agencies': 0.0, 'Survey': 0.0, 'Solapur': 0.0, 'official': 0.0, '1.7': 0.0, 'called': 0.0, 'years': -0.40546510810816444, 'society': 0.0, 'plants': 0.0, 'that': -0.40546510810816444, 'led': 0.0, 'emissions': 0.0, 'stakeholders': 0.0, 'Pune': 0.0, 'An': 0.0, 'NGOs': 0.0, 'found': 0.0, 'usually': 0.0, 'work': 0.0, 'four': 0.0, 'growing': 0.0, 'and': -0.40546510810816444, ')': -0.40546510810816444, 'been': -0.40546510810816444, 'within': 0.0, 'most-populous': 0.0, 'single': -0.40546510810816444, ';': 0.0, 'view': 0.0, 'figure': 0.0, 'NABARD': 0.0, 'momentum': 0.0, 'These': 0.0, 'increasing': 0.0, 'launched': 0.0, 'Where': 0.0, 'per': 0.0, 'According': 0.0, 'funds': 0.0, 'third': 0.0, 'further': 0.0, '(': -0.40546510810816444, 'period': 0.0, 'Circle': 0.0, 'carbon': 0.0, 'body': 0.0, 'out': -0.40546510810816444, 'three': 0.0, 'Dara': 0.0, 'October': 0.0, 'Green': 0.0, 'Colleges': 0.0, '17': 0.0, 'submitted': 0.0, 'an': -0.40546510810816444, '.': -0.40546510810816444, 'announced': 0.0, 'We': 0.0, 'mobile': 0.0, 'Plants': 0.0, 'organizational': 0.0, 'state-wide': 0.0, 'population': 0.0, 'evidence': 0.0, '1.49': 0.0, '33': 0.0, 'regarding': 0.0, 'viz': 0.0, 'succumb': 0.0, 'geographical': 0.0, 'Maharashtra': 0.0, '24-hour': 0.0, '4': 0.0, 'citing': 0.0, 'toll': 0.0, 'six': 0.0, 'consistency': 0.0, 'Pradesh': 0.0, 'vowed': 0.0, 'industrial': 0.0, 'place': 0.0, '—': 0.0, 'teakwood': 0.0, '``': 0.0, 'Manoj': 0.0, 'All': -0.40546510810816444, '79': 0.0, 'portal': 0.0, 'specially': 0.0, 'Between': 0.0, 'dedicated': 0.0, 'bid': 0.0, 'concern': 0.0, 'by': -0.40546510810816444, 'told': 0.0, '1926': 0.0, 'teams': 0.0, 'aim': 0.0, 'reduce': 0.0, 'resounding': 0.0, 'claimed': 0.0, '2019': -0.40546510810816444, 'about': -0.40546510810816444, 'unavailability': 0.0, 'campaign': 0.0, 'tree': -0.40546510810816444, 'Pioneer': 0.0, 'sectors': 0.0, 'Mulshi': 0.0, 'highways': 0.0, 'was': -0.40546510810816444, 'species': 0.0, 'Students': 0.0, 'lakh': 0.0, 'few': 0.0, '[': 0.0, '3.05': 0.0, 'where': 0.0, 'survived': 0.0, \"''\": 0.0, ']': 0.0, 'done': 0.0, 'at': 0.0, 'www.greenarmy.mahaforest.gov.in': 0.0, 'seamless': 0.0, 'July': 0.0, 'especially': 0.0, 'number': 0.0, 'took': 0.0, 'hectares': 0.0, 'success': 0.0, 'compared': 0.0, 'exactly': 0.0, 'preparations': 0.0, 'its': -0.40546510810816444, 'Harit': 0.0, 'trees': -0.40546510810816444, 'gram': 0.0, 'other': 0.0, 'can': -0.40546510810816444, 'public': 0.0, 'comparatively': 0.0, 'programme': 0.0, 'happened': 0.0, 'meet': 0.0, ',': -0.40546510810816444, 'we': 0.0, 'the': -0.40546510810816444, 'panchayats': 0.0, 'final': 0.0, 'CSR': 0.0, 'Society': 0.0, 'Division': 0.0, '6.2': 0.0, 'celebrate': 0.0, 'lawmakers': 0.0, 'audio-visual': 0.0, 'Sunday': 0.0, '80': 0.0, 'state': -0.40546510810816444, 'Department': 0.0, 'tasked': 0.0, 'NSS': 0.0, 'along': -0.40546510810816444, 'website': 0.0, 'This': 0.0, 'million': 0.0, 'area': -0.40546510810816444, 'divisions': 0.0, 'due': 0.0, 'My': 0.0, 'July-September': 0.0, 'proof': 0.0, 'geo-tagged': 0.0, 'Sena': 0.0, 'so': 0.0, 'Chauhan': 0.0, 'individual': 0.0, 'There': 0.0, '2.82': 0.0, '’': 0.0, 'however': 0.0, 'progress': 0.0, 'Defence': 0.0, 'lack': 0.0, 'under': -0.40546510810816444, 'emphasis': 0.0, 'to': -0.40546510810816444, 'The': -0.40546510810816444, 'National': 0.0, 'set': 0.0, 'Singh': 0.0, 'surpassed': 0.0, 'information': 0.0, 'mandatory': 0.0, 'participate': 0.0, 'total': -0.40546510810816444, 'has': -0.40546510810816444, '38': 0.0, 'on': -0.40546510810816444, 'tree-planting': 0.0, 'national': 0.0, 'it': 0.0, 'mission': 0.0, 'report': 0.0, 'sqare': 0.0, 'miles': 0.0, 'also': 0.0, 'organisations': 0.0, 'volunteering': 0.0, 'average': 0.0, 'no': 0.0, 'provide': 0.0, 'operational': 0.0, 'stress': 0.0, '60': 0.0, 'change': 0.0, 'Revenue': 0.0, 'riverbanks': 0.0, 'aims': 0.0, '127': 0.0, 'development': 0.0, 'billion': 0.0, 'may': 0.0, 'into': 0.0, 'Individuals': 0.0, 'How': 0.0, 'country': -0.40546510810816444, 'To': 0.0, 'Vanmohotsav': 0.0, 'formed': 0.0, 'namely': 0.0, 'created': 0.0, 'whether': 0.0, 'adding': 0.0, '1st': 0.0, 'increased': 0.0, 'targets': 0.0, 'Havveli': 0.0, 'from': 0.0, 'is': -0.40546510810816444, 'ascertain': 0.0, 'planned': 0.0, 'a': -0.40546510810816444, 'another': 0.0, 'use': 0.0, 'verify': 0.0, 'NCC': 0.0, 'numbers': 0.0, 'over': -0.40546510810816444, 'More': 0.0, 'In': 0.0, 'consonance': 0.0, 'integrated': 0.0, 'being': 0.0, 'first': 0.0, 'location': 0.0, 'department': 0.0, 'through': 0.0, 'non-forest': 0.0, 'project': 0.0, 'involvement': 0.0, 'Railways': 0.0, 'target': 0.0, 'system': 0.0, 'mass': 0.0, 'Minister': 0.0, 'extent': 0.0, '50': 0.0, 'Indian': -0.40546510810816444, '59': 0.0, 'have': 0.0, 'rapidly': 0.0, 'volunteers': -0.40546510810816444, 'planted': -0.40546510810816444, 'Maval': 0.0, 'collective': 0.0, 'talukas': 0.0, 'cover': -0.40546510810816444, 'planting': -0.40546510810816444, 'wildlife': 0.0, 'officials': 0.0, 'codes': 0.0, 'had': 0.0, 'such': 0.0, 'computer': 0.0, 'uploaded': 0.0, 'land': -0.40546510810816444, 'platform': 0.0, 'four-year': 0.0, 'Army': 0.0, 'are': 0.0, 'annual': 0.0, 'allocated': 0.0, '13': 0.0, 'as': -0.40546510810816444, 'Schools': 0.0, 'with': 0.0, 'India': 0.0, 'successful': 0.0, 'protection': 0.0, 'comprises': 0.0, 'Indapur': 0.0, 'spokesperson': 0.0, 'water': 0.0, 'what': 0.0, 'drives': -0.40546510810816444, 'departments': 0.0, 'without': 0.0, '$': 0.0, 'maintain': -0.40546510810816444, 'than': 0.0, 'long-term': 0.0, 'forests': 0.0, 'rest': 0.0, 'should': 0.0, 'which': 0.0, '‘': 0.0, 'record': -0.40546510810816444, 'involved': 0.0, 'Forest': -0.40546510810816444, 'all': 0.0, 'register': 0.0, 'Hello': 0.0, 'survive': 0.0, 'their': 0.0, 'survival': -0.40546510810816444, 'committed': 0.0, 'for': -0.40546510810816444, '2030': 0.0, 'Express': -0.40546510810816444, 'across': -0.40546510810816444, 'Last': 0.0, 'application': 0.0, 'green': 0.0, 'shall': 0.0, '2016': 0.0, 'newspaper': 0.0, 'Baramati': 0.0, 'were': -0.40546510810816444, \"'s\": 0.0, 'not': -0.40546510810816444, '/': 0.0, 'What': 0.0, '2018': 0.0, 'ensure': 0.0, 'accomplished': 0.0, 'Policy': 0.0, 'QR': 0.0, 'plantation': -0.40546510810816444, 'increase': 0.0, 'he': 0.0, 'said': 0.0, 'schools': 0.0, 'Also': 0.0, 'saplings': -0.40546510810816444, '2017': -0.40546510810816444, 'or': 0.0, 'cent': 0.0, 'details': 0.0, 'will': 0.0, 'kind': 0.0, 'reported': 0.0, 'around': 0.0, '15': 0.0, 'government': -0.40546510810816444, 'activists': 0.0, 'saying': 0.0, 'forest': -0.40546510810816444, '7th': 0.0, 'carried': 0.0, 'many': -0.40546510810816444, 'drive': -0.40546510810816444, 'plant': 0.0, 'For': 0.0, 'example': 0.0, 'in': -0.40546510810816444, 'day': -0.40546510810816444, 'related': 0.0, 'only': 0.0, 'interested': 0.0, '250': 0.0, 'level': 0.0, 'awareness': 0.0, 'next': 0.0, 'crore': 0.0, 'disease': 0.0, 'special': 0.0, 'affecting': 0.0, 'people': 0.0, 'Millions': 0.0, 'last': 0.0, '70': 0.0, '%': -0.40546510810816444, 'climate': 0.0, 'combat': 0.0, 'consecutive': 0.0, 'farms': 0.0, 's': 0.0, 'kilometers': 0.0, 'carry': 0.0, 'of': -0.40546510810816444, 'be': 0.0, 'district': 0.0}\n"
     ]
    }
   ],
   "source": [
    "# Step 7: Inverse Document Frequency (IDF)\n",
    "def calculate_idf(doc1, doc2):\n",
    "    d1_tokens = nltk.word_tokenize(doc1)\n",
    "    d2_tokens = nltk.word_tokenize(doc2)\n",
    "    N = 2  # Number of documents\n",
    "    all_tokens = set(d1_tokens + d2_tokens)\n",
    "    \n",
    "    idf = dict()\n",
    "    for token in all_tokens:\n",
    "        \n",
    "        df = 0\n",
    "        if token in d1_tokens:\n",
    "            df += 1\n",
    "        if token in d2_tokens:\n",
    "            df += 1\n",
    "\n",
    "        # df = 0\n",
    "        # for doc in [doc1, doc2]:\n",
    "            # if token in nltk.word_tokenize(doc):\n",
    "                # df += 1\n",
    "        \n",
    "        # df = sum(1 for doc in [doc1, doc2] if token in nltk.word_tokenize(doc))\n",
    "        idf[token] = math.log(N / (1 + df))  # Adding 1 to avoid division by zero\n",
    "    return idf\n",
    "\n",
    "# Calculate Inverse Document Frequency (IDF)\n",
    "idf = calculate_idf(doc1, doc2)\n",
    "\n",
    "print(\"Inverse Document Frequency (IDF):\", idf)"
   ]
  },
  {
   "cell_type": "code",
   "execution_count": 21,
   "id": "864872e2-506c-4adf-be43-e3edc0a53821",
   "metadata": {},
   "outputs": [
    {
     "name": "stdout",
     "output_type": "stream",
     "text": [
      "TF-IDF for Document 1: {'Between': 0.0, '2016': 0.0, 'and': -0.010764560392252154, '2019': -0.0023921245316115896, ',': -0.0227251830503101, 'the': -0.023921245316115895, 'state': -0.0011960622658057948, 'forest': -0.0035881867974173844, 'department': 0.0, 'under': -0.0017940933987086922, 'BJP': 0.0, 'government': -0.0023921245316115896, 'had': 0.0, 'launched': 0.0, '‘': 0.0, 'Green': 0.0, 'Maharashtra': 0.0, '’': 0.0, 'drive': -0.0023921245316115896, 'with': 0.0, 'an': -0.0005980311329028974, 'aim': 0.0, 'to': -0.0077744047277376665, 'plant': 0.0, '50': 0.0, 'crore': 0.0, 'trees': -0.002990155664514487, 'across': -0.0005980311329028974, 'in': -0.006578342461931871, 'four-year': 0.0, 'period': 0.0, '.': -0.012558653790960845, 'In': 0.0, 'October': 0.0, 'claimed': 0.0, 'it': 0.0, 'surpassed': 0.0, 'target': 0.0, 'by': -0.0011960622658057948, 'planting': -0.0017940933987086922, '33': 0.0, 'July-September': 0.0, 'The': -0.002990155664514487, 'Indian': -0.0005980311329028974, 'Express': -0.0005980311329028974, 'found': 0.0, 'that': -0.0005980311329028974, 'non-forest': 0.0, 'agencies': 0.0, '—': 0.0, 'such': 0.0, 'as': -0.002990155664514487, 'gram': 0.0, 'panchayats': 0.0, 'which': 0.0, 'were': -0.0017940933987086922, 'tasked': 0.0, 'not': -0.0017940933987086922, 'uploaded': 0.0, 'mandatory': 0.0, 'audio-visual': 0.0, 'proof': 0.0, 'of': -0.013156684923863743, 'tree': -0.0011960622658057948, 'plantation': -0.005980311329028974, 'drives': -0.0005980311329028974, 'on': -0.004186217930320282, 'specially': 0.0, 'created': 0.0, 'portal': 0.0, 'Pune': 0.0, 'Revenue': 0.0, 'Division': 0.0, 'was': -0.0023921245316115896, 'planted': -0.0023921245316115896, '1.7': 0.0, 'saplings': -0.005382280196126077, ';': 0.0, 'however': 0.0, 'no': 0.0, 'evidence': 0.0, 'for': -0.0023921245316115896, '87': 0.0, 'per': 0.0, 'cent': 0.0, '(': -0.0005980311329028974, '1.49': 0.0, ')': -0.0005980311329028974, 'Also': 0.0, 'out': -0.0005980311329028974, '59': 0.0, 'involved': 0.0, 'many': -0.0005980311329028974, '38': 0.0, 'submitted': 0.0, 'survival': -0.0005980311329028974, 'reports': 0.0, 'about': -0.0011960622658057948, 'This': 0.0, 'year': 0.0, 'targets': 0.0, 'set': 0.0, 'comparatively': 0.0, 'modest': 0.0, 'For': 0.0, 'example': 0.0, 'Circle': 0.0, 'comprises': 0.0, 'three': 0.0, 'divisions': 0.0, 'Solapur': 0.0, 'district': 0.0, 'planned': 0.0, '17': 0.0, 'lakh': 0.0, 'land': -0.0011960622658057948, 'However': -0.0005980311329028974, 'may': 0.0, 'meet': 0.0, 'due': 0.0, 'unavailability': 0.0, 'funds': 0.0, 'Last': 0.0, '70': 0.0, 'six': 0.0, 'talukas': 0.0, 'namely': 0.0, 'Maval': 0.0, 'Mulshi': 0.0, 'Daund': 0.0, 'Indapur': 0.0, 'Baramati': 0.0, 'Havveli': 0.0, 'preparations': 0.0, 'done': 0.0, '4': 0.0, 'special': 0.0, 'emphasis': 0.0, 'teakwood': 0.0, 'National': 0.0, 'Forest': -0.004186217930320282, 'Policy': 0.0, 'aims': 0.0, 'emphasizes': 0.0, 'at': 0.0, 'maintaining': 0.0, '%': -0.0005980311329028974, 'country': -0.0005980311329028974, 's': 0.0, 'geographical': 0.0, 'area': -0.0005980311329028974, 'green': 0.0, 'cover': -0.0005980311329028974, 'view': 0.0, 'this': 0.0, 'a': -0.004784249063223179, 'part': -0.0005980311329028974, 'programme': 0.0, 'within': 0.0, 'Department': 0.0, 'all': 0.0, 'over': -0.0005980311329028974, 'State': -0.0005980311329028974, 'between': 0.0, '1st': 0.0, 'July': 0.0, '7th': 0.0, '2017': -0.0017940933987086922, 'celebrate': 0.0, 'Vanmohotsav': 0.0, 'announced': 0.0, '2': 0.0, 'resounding': 0.0, 'success': 0.0, 'final': 0.0, 'total': -0.0005980311329028974, 'reported': 0.0, 'figure': 0.0, '2.82': 0.0, 'single': -0.0005980311329028974, 'day': -0.0005980311329028974, 'To': 0.0, 'maintain': -0.0005980311329028974, 'consistency': 0.0, 'platform': 0.0, 'without': 0.0, 'affecting': 0.0, 'its': -0.0011960622658057948, 'momentum': 0.0, 'has': -0.002990155664514487, '13': 0.0, 'mission': 0.0, 'shall': 0.0, 'be': 0.0, 'accomplished': 0.0, 'consecutive': 0.0, 'years': -0.0005980311329028974, 'viz': 0.0, '2018': 0.0, 'will': 0.0, 'during': 0.0, 'state-wide': 0.0, 'involvement': 0.0, 'departments': 0.0, 'along': -0.0005980311329028974, 'Students': 0.0, 'Schools': 0.0, 'Colleges': 0.0, 'NSS': 0.0, 'NCC': 0.0, 'CSR': 0.0, 'NGOs': 0.0, 'Railways': 0.0, 'Highways': 0.0, 'Defence': 0.0, 'NABARD': 0.0, 'other': 0.0, 'stakeholders': 0.0, 'Society': 0.0, 'first': 0.0, 'kind': 0.0, '24-hour': 0.0, 'toll': 0.0, 'free': 0.0, 'helpline': 0.0, 'number': 0.0, '1926': 0.0, 'called': 0.0, 'Hello': 0.0, 'been': -0.0011960622658057948, 'up': 0.0, 'provide': 0.0, 'information': 0.0, 'regarding': 0.0, 'protection': 0.0, 'mass': 0.0, 'awareness': 0.0, 'mobile': 0.0, 'application': 0.0, 'My': 0.0, 'Plants': 0.0, 'record': -0.0011960622658057948, 'details': 0.0, 'numbers': 0.0, 'species': 0.0, 'location': 0.0, 'into': 0.0, 'computer': 0.0, 'system': 0.0, 'All': -0.0005980311329028974, 'volunteers': -0.0011960622658057948, 'individual': 0.0, 'collective': 0.0, 'organizational': 0.0, 'level': 0.0, 'should': 0.0, 'download': 0.0, 'use': 0.0, 'their': 0.0, 'work': 0.0, 'through': 0.0, 'operational': 0.0, 'from': 0.0, 'consonance': 0.0, 'public': 0.0, 'participation': 0.0, 'initiated': 0.0, 'Harit': 0.0, 'Sena': 0.0, '/': 0.0, 'Army': 0.0, 'is': -0.0005980311329028974, 'body': 0.0, 'dedicated': 0.0, 'participate': 0.0, 'activities': 0.0, 'wildlife': 0.0, 'related': 0.0, 'sectors': 0.0, 'around': 0.0, 'Individuals': 0.0, 'organisations': 0.0, 'interested': 0.0, 'volunteering': 0.0, 'can': -0.0005980311329028974, 'register': 0.0, 'website': 0.0, 'www.greenarmy.mahaforest.gov.in': 0.0, 'An': 0.0, 'integrated': 0.0, 'place': 0.0, 'ensure': 0.0, 'seamless': 0.0, 'successful': 0.0, 'society': 0.0, 'especially': 0.0}\n",
      "TF-IDF for Document 2: {'Millions': 0.0, 'of': -0.0130795196163924, 'people': 0.0, 'in': -0.010276765412879744, 'India': 0.0, 'took': 0.0, 'part': -0.0009342514011708858, 'an': -0.0028027542035126574, 'annual': 0.0, 'tree': -0.003737005604683543, 'planting': -0.0018685028023417715, 'drive': -0.0018685028023417715, 'Sunday': 0.0, '.': -0.016816525221075945, 'More': 0.0, 'than': 0.0, '250': 0.0, 'million': 0.0, 'saplings': -0.007474011209367086, 'were': -0.0028027542035126574, 'planted': -0.003737005604683543, 'a': -0.0065397598081962, 'single': -0.0009342514011708858, 'day': -0.0009342514011708858, 'across': -0.0018685028023417715, 'the': -0.02242203362810126, 'country': -0.0018685028023417715, \"'s\": 0.0, 'most-populous': 0.0, 'state': -0.00467125700585443, 'The': -0.0065397598081962, 'campaign': 0.0, 'was': -0.0018685028023417715, 'led': 0.0, 'by': -0.0028027542035126574, 'Uttar': 0.0, 'Pradesh': 0.0, 'government': -0.003737005604683543, 'officials': 0.0, ',': -0.01868502802341772, 'lawmakers': 0.0, 'and': -0.007474011209367086, 'activists': 0.0, 'bid': 0.0, 'to': -0.00934251401170886, 'reduce': 0.0, 'carbon': 0.0, 'emissions': 0.0, 'combat': 0.0, 'climate': 0.0, 'change': 0.0, 'Where': 0.0, 'trees': -0.0018685028023417715, '?': 0.0, 'volunteers': -0.0009342514011708858, 'forests': 0.0, 'farms': 0.0, 'schools': 0.0, 'along': -0.0009342514011708858, 'riverbanks': 0.0, 'highways': 0.0, '``': 0.0, 'We': 0.0, 'are': 0.0, 'committed': 0.0, 'increasing': 0.0, 'forest': -0.00467125700585443, 'cover': -0.00467125700585443, 'over': -0.0018685028023417715, '15': 0.0, '%': -0.00467125700585443, 'total': -0.0018685028023417715, 'land': -0.0028027542035126574, 'area': -0.0018685028023417715, 'next': 0.0, 'five': 0.0, 'years': -0.0018685028023417715, \"''\": 0.0, 'said': 0.0, 'official': 0.0, 'Manoj': 0.0, 'Singh': 0.0, 'According': 0.0, 'another': 0.0, 'has': -0.0065397598081962, 'increased': 0.0, 'last': 0.0, 'few': 0.0, 'There': 0.0, 'been': -0.003737005604683543, 'increase': 0.0, '127': 0.0, 'sqare': 0.0, 'kilometers': 0.0, '[': 0.0, '79': 0.0, 'miles': 0.0, ']': 0.0, 'as': -0.0028027542035126574, 'compared': 0.0, '2017': -0.0009342514011708858, 'spokesperson': 0.0, 'quoted': 0.0, 'saying': 0.0, 'Indian': -0.0009342514011708858, 'Express': -0.0009342514011708858, 'newspaper': 0.0, 'also': 0.0, 'plants': 0.0, '3.05': 0.0, 'national': 0.0, 'average': 0.0, '2.89': 0.0, 'citing': 0.0, '2019': -0.0009342514011708858, 'Forest': -0.0018685028023417715, 'Survey': 0.0, 'report': 0.0, 'How': 0.0, 'many': -0.0009342514011708858, 'survive': 0.0, 'State': -0.0009342514011708858, 'Minister': 0.0, 'Dara': 0.0, 'long-term': 0.0, 'survival': -0.0009342514011708858, 'remains': 0.0, 'concern': 0.0, 'adding': 0.0, 'that': -0.003737005604683543, 'usually': 0.0, 'only': 0.0, '60': 0.0, 'rest': 0.0, 'succumb': 0.0, 'disease': 0.0, 'or': 0.0, 'lack': 0.0, 'water': 0.0, 'However': -0.0018685028023417715, 'he': 0.0, 'about': -0.0009342514011708858, '80': 0.0, 'four': 0.0, 'drives': -0.0009342514011708858, 'have': 0.0, 'survived': 0.0, 'All': -0.0009342514011708858, 'regions': 0.0, 'where': 0.0, 'plantation': -0.0018685028023417715, 'is': -0.0018685028023417715, 'being': 0.0, 'carried': 0.0, 'out': -0.0009342514011708858, 'geo-tagged': 0.0, 'so': 0.0, 'we': 0.0, 'can': -0.0018685028023417715, 'ascertain': 0.0, 'what': 0.0, 'exactly': 0.0, 'happened': 0.0, 'Chauhan': 0.0, 'told': 0.0, 'Pioneer': 0.0, 'These': 0.0, 'carry': 0.0, 'QR': 0.0, 'codes': 0.0, 'maintain': -0.0009342514011708858, 'record': -0.0009342514011708858, 'verify': 0.0, 'whether': 0.0, 'not': -0.0009342514011708858, 'Besides': 0.0, 'teams': 0.0, 'formed': 0.0, 'monitor': 0.0, 'progress': 0.0, 'What': 0.0, 'extent': 0.0, 'project': 0.0, 'vowed': 0.0, 'third': 0.0, 'its': -0.0009342514011708858, '95': 0.0, 'hectares': 0.0, 'under': -0.0009342514011708858, '2030': 0.0, 'allocated': 0.0, '$': 0.0, '6.2': 0.0, 'billion': 0.0, '(': -0.0009342514011708858, '€5.2': 0.0, ')': -0.0009342514011708858, 'for': -0.0009342514011708858, 'tree-planting': 0.0, 'industrial': 0.0, 'development': 0.0, 'rapidly': 0.0, 'growing': 0.0, 'population': 0.0, 'put': 0.0, 'further': 0.0, 'stress': 0.0, 'on': -0.0009342514011708858}\n"
     ]
    }
   ],
   "source": [
    "# Step 8: TF-IDF Calculation\n",
    "def calculate_tfidf(tf, idf):\n",
    "    tfidf = dict()\n",
    "    for word in tf:\n",
    "        tfidf[word] = tf[word] * idf.get(word, 0)\n",
    "    # tfidf = {word: tf[word] * idf.get(word, 0) for word in tf}\n",
    "    return tfidf\n",
    "\n",
    "# Calculate TF-IDF\n",
    "tfidf_doc1 = calculate_tfidf(tf_doc1, idf)\n",
    "tfidf_doc2 = calculate_tfidf(tf_doc2, idf)\n",
    "\n",
    "print(\"TF-IDF for Document 1:\", tfidf_doc1)\n",
    "print(\"TF-IDF for Document 2:\", tfidf_doc2)"
   ]
  },
  {
   "cell_type": "code",
   "execution_count": null,
   "id": "44f3961b-9d5b-4af1-9e8f-5da4adb6a699",
   "metadata": {},
   "outputs": [],
   "source": []
  },
  {
   "cell_type": "code",
   "execution_count": null,
   "id": "9c6d1fdd-23c4-42a8-a9f0-36e7d6471145",
   "metadata": {},
   "outputs": [],
   "source": []
  }
 ],
 "metadata": {
  "kernelspec": {
   "display_name": "Python 3 (ipykernel)",
   "language": "python",
   "name": "python3"
  },
  "language_info": {
   "codemirror_mode": {
    "name": "ipython",
    "version": 3
   },
   "file_extension": ".py",
   "mimetype": "text/x-python",
   "name": "python",
   "nbconvert_exporter": "python",
   "pygments_lexer": "ipython3",
   "version": "3.12.3"
  }
 },
 "nbformat": 4,
 "nbformat_minor": 5
}
